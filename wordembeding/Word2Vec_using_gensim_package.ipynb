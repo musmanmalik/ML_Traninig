{
 "cells": [
  {
   "cell_type": "markdown",
   "metadata": {},
   "source": [
    "## <a id=\"Lib\">Import Liberay </a>"
   ]
  },
  {
   "cell_type": "code",
   "execution_count": 30,
   "metadata": {},
   "outputs": [],
   "source": [
    "import re  # For preprocessing\n",
    "import multiprocessing\n",
    "import logging \n",
    "import pandas as pd  # For data handling\n",
    "import numpy as np\n",
    "import seaborn as sns\n",
    "import matplotlib.pyplot as plt\n",
    "\n",
    "from time import time  # To time our operations\n",
    "from collections import defaultdict  # For word frequency\n",
    "from gensim.models.phrases import Phrases,Phraser\n",
    "from gensim.models import Word2Vec\n",
    "from sklearn.decomposition import PCA\n",
    "from sklearn.manifold import TSNE\n",
    " \n",
    "sns.set_style(\"darkgrid\")\n",
    "\n",
    "# Setting up the loggings to monitor gensim\n",
    "logging.basicConfig(format=\"%(levelname)s - %(asctime)s: %(message)s\", datefmt= '%H:%M:%S', level=logging.INFO)"
   ]
  },
  {
   "cell_type": "code",
   "execution_count": 3,
   "metadata": {
    "_cell_guid": "79c7e3d0-c299-4dcb-8224-4455121ee9b0",
    "_uuid": "d629ff2d2480ee46fbb7e2d37f6b5fab8052498a"
   },
   "outputs": [],
   "source": [
    "data = pd.read_csv(\"stackdata.csv\")"
   ]
  },
  {
   "cell_type": "markdown",
   "metadata": {},
   "source": [
    "## <a id=\"Display\"> About Data</a>"
   ]
  },
  {
   "cell_type": "code",
   "execution_count": 4,
   "metadata": {},
   "outputs": [
    {
     "name": "stdout",
     "output_type": "stream",
     "text": [
      "<class 'pandas.core.frame.DataFrame'>\n",
      "RangeIndex: 45000 entries, 0 to 44999\n",
      "Data columns (total 6 columns):\n",
      " #   Column        Non-Null Count  Dtype \n",
      "---  ------        --------------  ----- \n",
      " 0   Id            45000 non-null  int64 \n",
      " 1   Title         45000 non-null  object\n",
      " 2   Body          45000 non-null  object\n",
      " 3   Tags          45000 non-null  object\n",
      " 4   CreationDate  45000 non-null  object\n",
      " 5   Y             45000 non-null  object\n",
      "dtypes: int64(1), object(5)\n",
      "memory usage: 2.1+ MB\n"
     ]
    },
    {
     "data": {
      "text/plain": [
       "None"
      ]
     },
     "metadata": {},
     "output_type": "display_data"
    },
    {
     "data": {
      "text/html": [
       "<div>\n",
       "<style scoped>\n",
       "    .dataframe tbody tr th:only-of-type {\n",
       "        vertical-align: middle;\n",
       "    }\n",
       "\n",
       "    .dataframe tbody tr th {\n",
       "        vertical-align: top;\n",
       "    }\n",
       "\n",
       "    .dataframe thead th {\n",
       "        text-align: right;\n",
       "    }\n",
       "</style>\n",
       "<table border=\"1\" class=\"dataframe\">\n",
       "  <thead>\n",
       "    <tr style=\"text-align: right;\">\n",
       "      <th></th>\n",
       "      <th>Id</th>\n",
       "      <th>Title</th>\n",
       "      <th>Body</th>\n",
       "      <th>Tags</th>\n",
       "      <th>CreationDate</th>\n",
       "      <th>Y</th>\n",
       "    </tr>\n",
       "  </thead>\n",
       "  <tbody>\n",
       "    <tr>\n",
       "      <th>0</th>\n",
       "      <td>34552656</td>\n",
       "      <td>Java: Repeat Task Every Random Seconds</td>\n",
       "      <td>&lt;p&gt;I'm already familiar with repeating tasks e...</td>\n",
       "      <td>&lt;java&gt;&lt;repeat&gt;</td>\n",
       "      <td>2016-01-01 00:21:59</td>\n",
       "      <td>LQ_CLOSE</td>\n",
       "    </tr>\n",
       "    <tr>\n",
       "      <th>1</th>\n",
       "      <td>34553034</td>\n",
       "      <td>Why are Java Optionals immutable?</td>\n",
       "      <td>&lt;p&gt;I'd like to understand why Java 8 Optionals...</td>\n",
       "      <td>&lt;java&gt;&lt;optional&gt;</td>\n",
       "      <td>2016-01-01 02:03:20</td>\n",
       "      <td>HQ</td>\n",
       "    </tr>\n",
       "    <tr>\n",
       "      <th>2</th>\n",
       "      <td>34553174</td>\n",
       "      <td>Text Overlay Image with Darkened Opacity React...</td>\n",
       "      <td>&lt;p&gt;I am attempting to overlay a title over an ...</td>\n",
       "      <td>&lt;javascript&gt;&lt;image&gt;&lt;overlay&gt;&lt;react-native&gt;&lt;opa...</td>\n",
       "      <td>2016-01-01 02:48:24</td>\n",
       "      <td>HQ</td>\n",
       "    </tr>\n",
       "    <tr>\n",
       "      <th>3</th>\n",
       "      <td>34553318</td>\n",
       "      <td>Why ternary operator in swift is so picky?</td>\n",
       "      <td>&lt;p&gt;The question is very simple, but I just cou...</td>\n",
       "      <td>&lt;swift&gt;&lt;operators&gt;&lt;whitespace&gt;&lt;ternary-operato...</td>\n",
       "      <td>2016-01-01 03:30:17</td>\n",
       "      <td>HQ</td>\n",
       "    </tr>\n",
       "    <tr>\n",
       "      <th>4</th>\n",
       "      <td>34553755</td>\n",
       "      <td>hide/show fab with scale animation</td>\n",
       "      <td>&lt;p&gt;I'm using custom floatingactionmenu. I need...</td>\n",
       "      <td>&lt;android&gt;&lt;material-design&gt;&lt;floating-action-but...</td>\n",
       "      <td>2016-01-01 05:21:48</td>\n",
       "      <td>HQ</td>\n",
       "    </tr>\n",
       "  </tbody>\n",
       "</table>\n",
       "</div>"
      ],
      "text/plain": [
       "         Id                                              Title  \\\n",
       "0  34552656             Java: Repeat Task Every Random Seconds   \n",
       "1  34553034                  Why are Java Optionals immutable?   \n",
       "2  34553174  Text Overlay Image with Darkened Opacity React...   \n",
       "3  34553318         Why ternary operator in swift is so picky?   \n",
       "4  34553755                 hide/show fab with scale animation   \n",
       "\n",
       "                                                Body  \\\n",
       "0  <p>I'm already familiar with repeating tasks e...   \n",
       "1  <p>I'd like to understand why Java 8 Optionals...   \n",
       "2  <p>I am attempting to overlay a title over an ...   \n",
       "3  <p>The question is very simple, but I just cou...   \n",
       "4  <p>I'm using custom floatingactionmenu. I need...   \n",
       "\n",
       "                                                Tags         CreationDate  \\\n",
       "0                                     <java><repeat>  2016-01-01 00:21:59   \n",
       "1                                   <java><optional>  2016-01-01 02:03:20   \n",
       "2  <javascript><image><overlay><react-native><opa...  2016-01-01 02:48:24   \n",
       "3  <swift><operators><whitespace><ternary-operato...  2016-01-01 03:30:17   \n",
       "4  <android><material-design><floating-action-but...  2016-01-01 05:21:48   \n",
       "\n",
       "          Y  \n",
       "0  LQ_CLOSE  \n",
       "1        HQ  \n",
       "2        HQ  \n",
       "3        HQ  \n",
       "4        HQ  "
      ]
     },
     "metadata": {},
     "output_type": "display_data"
    }
   ],
   "source": [
    "display(data.info(),data.head())"
   ]
  },
  {
   "cell_type": "markdown",
   "metadata": {},
   "source": [
    "## <a id='Pre-Processing'>Pre-Processing</a> "
   ]
  },
  {
   "cell_type": "markdown",
   "metadata": {},
   "source": [
    "Note:- We are currently going to use only two columns but we are still going to keep 2 more columns just for later use\n",
    "<ul>\n",
    "  <li>1. <code> Id , CreationDate </code> were not usefull at the current point. </li>\n",
    "  <li>2. And let's transform the <code> 'Y' </code> column into \" 0,1,2 \" </li>\n",
    "</ul>"
   ]
  },
  {
   "cell_type": "code",
   "execution_count": 5,
   "metadata": {},
   "outputs": [
    {
     "name": "stderr",
     "output_type": "stream",
     "text": [
      "/var/folders/b8/bmq4rlpn1d32yd4c88zdz0600000gp/T/ipykernel_82321/2368618481.py:2: SettingWithCopyWarning: \n",
      "A value is trying to be set on a copy of a slice from a DataFrame.\n",
      "Try using .loc[row_indexer,col_indexer] = value instead\n",
      "\n",
      "See the caveats in the documentation: https://pandas.pydata.org/pandas-docs/stable/user_guide/indexing.html#returning-a-view-versus-a-copy\n",
      "  dummy_data['Y'] = dummy_data['Y'].map({'LQ_CLOSE':0, 'LQ_EDIT': 1, 'HQ':2})\n"
     ]
    },
    {
     "data": {
      "text/html": [
       "<div>\n",
       "<style scoped>\n",
       "    .dataframe tbody tr th:only-of-type {\n",
       "        vertical-align: middle;\n",
       "    }\n",
       "\n",
       "    .dataframe tbody tr th {\n",
       "        vertical-align: top;\n",
       "    }\n",
       "\n",
       "    .dataframe thead th {\n",
       "        text-align: right;\n",
       "    }\n",
       "</style>\n",
       "<table border=\"1\" class=\"dataframe\">\n",
       "  <thead>\n",
       "    <tr style=\"text-align: right;\">\n",
       "      <th></th>\n",
       "      <th>Title</th>\n",
       "      <th>Body</th>\n",
       "      <th>Tags</th>\n",
       "      <th>Y</th>\n",
       "    </tr>\n",
       "  </thead>\n",
       "  <tbody>\n",
       "    <tr>\n",
       "      <th>0</th>\n",
       "      <td>Java: Repeat Task Every Random Seconds</td>\n",
       "      <td>&lt;p&gt;I'm already familiar with repeating tasks e...</td>\n",
       "      <td>&lt;java&gt;&lt;repeat&gt;</td>\n",
       "      <td>0</td>\n",
       "    </tr>\n",
       "    <tr>\n",
       "      <th>1</th>\n",
       "      <td>Why are Java Optionals immutable?</td>\n",
       "      <td>&lt;p&gt;I'd like to understand why Java 8 Optionals...</td>\n",
       "      <td>&lt;java&gt;&lt;optional&gt;</td>\n",
       "      <td>2</td>\n",
       "    </tr>\n",
       "    <tr>\n",
       "      <th>2</th>\n",
       "      <td>Text Overlay Image with Darkened Opacity React...</td>\n",
       "      <td>&lt;p&gt;I am attempting to overlay a title over an ...</td>\n",
       "      <td>&lt;javascript&gt;&lt;image&gt;&lt;overlay&gt;&lt;react-native&gt;&lt;opa...</td>\n",
       "      <td>2</td>\n",
       "    </tr>\n",
       "    <tr>\n",
       "      <th>3</th>\n",
       "      <td>Why ternary operator in swift is so picky?</td>\n",
       "      <td>&lt;p&gt;The question is very simple, but I just cou...</td>\n",
       "      <td>&lt;swift&gt;&lt;operators&gt;&lt;whitespace&gt;&lt;ternary-operato...</td>\n",
       "      <td>2</td>\n",
       "    </tr>\n",
       "    <tr>\n",
       "      <th>4</th>\n",
       "      <td>hide/show fab with scale animation</td>\n",
       "      <td>&lt;p&gt;I'm using custom floatingactionmenu. I need...</td>\n",
       "      <td>&lt;android&gt;&lt;material-design&gt;&lt;floating-action-but...</td>\n",
       "      <td>2</td>\n",
       "    </tr>\n",
       "  </tbody>\n",
       "</table>\n",
       "</div>"
      ],
      "text/plain": [
       "                                               Title  \\\n",
       "0             Java: Repeat Task Every Random Seconds   \n",
       "1                  Why are Java Optionals immutable?   \n",
       "2  Text Overlay Image with Darkened Opacity React...   \n",
       "3         Why ternary operator in swift is so picky?   \n",
       "4                 hide/show fab with scale animation   \n",
       "\n",
       "                                                Body  \\\n",
       "0  <p>I'm already familiar with repeating tasks e...   \n",
       "1  <p>I'd like to understand why Java 8 Optionals...   \n",
       "2  <p>I am attempting to overlay a title over an ...   \n",
       "3  <p>The question is very simple, but I just cou...   \n",
       "4  <p>I'm using custom floatingactionmenu. I need...   \n",
       "\n",
       "                                                Tags  Y  \n",
       "0                                     <java><repeat>  0  \n",
       "1                                   <java><optional>  2  \n",
       "2  <javascript><image><overlay><react-native><opa...  2  \n",
       "3  <swift><operators><whitespace><ternary-operato...  2  \n",
       "4  <android><material-design><floating-action-but...  2  "
      ]
     },
     "execution_count": 5,
     "metadata": {},
     "output_type": "execute_result"
    }
   ],
   "source": [
    "dummy_data = data[['Title','Body','Tags','Y']]\n",
    "dummy_data['Y'] = dummy_data['Y'].map({'LQ_CLOSE':0, 'LQ_EDIT': 1, 'HQ':2})\n",
    "dummy_data.head()"
   ]
  },
  {
   "cell_type": "markdown",
   "metadata": {},
   "source": [
    "### Again let's combine <code> 'Text' = Title and Body </code> "
   ]
  },
  {
   "cell_type": "code",
   "execution_count": 6,
   "metadata": {},
   "outputs": [
    {
     "name": "stderr",
     "output_type": "stream",
     "text": [
      "/var/folders/b8/bmq4rlpn1d32yd4c88zdz0600000gp/T/ipykernel_82321/968390365.py:1: SettingWithCopyWarning: \n",
      "A value is trying to be set on a copy of a slice from a DataFrame.\n",
      "Try using .loc[row_indexer,col_indexer] = value instead\n",
      "\n",
      "See the caveats in the documentation: https://pandas.pydata.org/pandas-docs/stable/user_guide/indexing.html#returning-a-view-versus-a-copy\n",
      "  dummy_data['text'] = dummy_data['Title'] + ' ' + dummy_data['Body']\n"
     ]
    },
    {
     "data": {
      "text/html": [
       "<div>\n",
       "<style scoped>\n",
       "    .dataframe tbody tr th:only-of-type {\n",
       "        vertical-align: middle;\n",
       "    }\n",
       "\n",
       "    .dataframe tbody tr th {\n",
       "        vertical-align: top;\n",
       "    }\n",
       "\n",
       "    .dataframe thead th {\n",
       "        text-align: right;\n",
       "    }\n",
       "</style>\n",
       "<table border=\"1\" class=\"dataframe\">\n",
       "  <thead>\n",
       "    <tr style=\"text-align: right;\">\n",
       "      <th></th>\n",
       "      <th>Tags</th>\n",
       "      <th>Y</th>\n",
       "      <th>text</th>\n",
       "    </tr>\n",
       "  </thead>\n",
       "  <tbody>\n",
       "    <tr>\n",
       "      <th>0</th>\n",
       "      <td>&lt;java&gt;&lt;repeat&gt;</td>\n",
       "      <td>0</td>\n",
       "      <td>Java: Repeat Task Every Random Seconds &lt;p&gt;I'm ...</td>\n",
       "    </tr>\n",
       "    <tr>\n",
       "      <th>1</th>\n",
       "      <td>&lt;java&gt;&lt;optional&gt;</td>\n",
       "      <td>2</td>\n",
       "      <td>Why are Java Optionals immutable? &lt;p&gt;I'd like ...</td>\n",
       "    </tr>\n",
       "    <tr>\n",
       "      <th>2</th>\n",
       "      <td>&lt;javascript&gt;&lt;image&gt;&lt;overlay&gt;&lt;react-native&gt;&lt;opa...</td>\n",
       "      <td>2</td>\n",
       "      <td>Text Overlay Image with Darkened Opacity React...</td>\n",
       "    </tr>\n",
       "    <tr>\n",
       "      <th>3</th>\n",
       "      <td>&lt;swift&gt;&lt;operators&gt;&lt;whitespace&gt;&lt;ternary-operato...</td>\n",
       "      <td>2</td>\n",
       "      <td>Why ternary operator in swift is so picky? &lt;p&gt;...</td>\n",
       "    </tr>\n",
       "    <tr>\n",
       "      <th>4</th>\n",
       "      <td>&lt;android&gt;&lt;material-design&gt;&lt;floating-action-but...</td>\n",
       "      <td>2</td>\n",
       "      <td>hide/show fab with scale animation &lt;p&gt;I'm usin...</td>\n",
       "    </tr>\n",
       "  </tbody>\n",
       "</table>\n",
       "</div>"
      ],
      "text/plain": [
       "                                                Tags  Y  \\\n",
       "0                                     <java><repeat>  0   \n",
       "1                                   <java><optional>  2   \n",
       "2  <javascript><image><overlay><react-native><opa...  2   \n",
       "3  <swift><operators><whitespace><ternary-operato...  2   \n",
       "4  <android><material-design><floating-action-but...  2   \n",
       "\n",
       "                                                text  \n",
       "0  Java: Repeat Task Every Random Seconds <p>I'm ...  \n",
       "1  Why are Java Optionals immutable? <p>I'd like ...  \n",
       "2  Text Overlay Image with Darkened Opacity React...  \n",
       "3  Why ternary operator in swift is so picky? <p>...  \n",
       "4  hide/show fab with scale animation <p>I'm usin...  "
      ]
     },
     "execution_count": 6,
     "metadata": {},
     "output_type": "execute_result"
    }
   ],
   "source": [
    "dummy_data['text'] = dummy_data['Title'] + ' ' + dummy_data['Body']\n",
    "dummy_data = dummy_data.drop(['Title', 'Body'], axis=1)\n",
    "dummy_data.head()\n"
   ]
  },
  {
   "cell_type": "markdown",
   "metadata": {},
   "source": [
    "## <a id='Cleaning'>Cleaning Text</a> "
   ]
  },
  {
   "cell_type": "code",
   "execution_count": 7,
   "metadata": {},
   "outputs": [],
   "source": [
    "def cleaning(doc):\n",
    "    #remove stopwords + Lemmitze them \n",
    "    txt = [token.lemma_ for token in doc if not token.is_stop]\n",
    "    if len(txt)>2:\n",
    "        return ' '.join(txt)"
   ]
  },
  {
   "cell_type": "markdown",
   "metadata": {},
   "source": [
    "### Removing characters other than alpha numeric characters "
   ]
  },
  {
   "cell_type": "code",
   "execution_count": 8,
   "metadata": {},
   "outputs": [],
   "source": [
    "init_cleaning = (re.sub(\"[^A-Za-z]+\",' ',str(row)).lower() for row in dummy_data['text'])"
   ]
  },
  {
   "cell_type": "markdown",
   "metadata": {},
   "source": [
    "## Cleaned Data: \n",
    "Now that we have cleaned data lets store it in a new dataframe and drop any null/ missing values or duplicates "
   ]
  },
  {
   "cell_type": "code",
   "execution_count": 9,
   "metadata": {},
   "outputs": [
    {
     "data": {
      "text/plain": [
       "(45000, 1)"
      ]
     },
     "execution_count": 9,
     "metadata": {},
     "output_type": "execute_result"
    }
   ],
   "source": [
    "df_clean = pd.DataFrame({'clean':init_cleaning})\n",
    "df_clean = df_clean.dropna().drop_duplicates()\n",
    "df_clean.shape"
   ]
  },
  {
   "cell_type": "markdown",
   "metadata": {},
   "source": [
    "## <a id='Bigrams'>Bigrams</a>\n",
    "We are using Gensim Phrases package to automatically detect common phrases (bigrams) from a list of sentences."
   ]
  },
  {
   "cell_type": "code",
   "execution_count": 10,
   "metadata": {},
   "outputs": [],
   "source": [
    "from gensim.models.phrases import Phrases,Phraser"
   ]
  },
  {
   "cell_type": "markdown",
   "metadata": {},
   "source": [
    "As Phrases() takes a list of list of words as input:"
   ]
  },
  {
   "cell_type": "code",
   "execution_count": 11,
   "metadata": {},
   "outputs": [],
   "source": [
    "sent = [row.split() for row in df_clean['clean']]"
   ]
  },
  {
   "cell_type": "markdown",
   "metadata": {},
   "source": [
    "Creates the relevant phrases from the list of sentences:"
   ]
  },
  {
   "cell_type": "code",
   "execution_count": 12,
   "metadata": {},
   "outputs": [
    {
     "name": "stderr",
     "output_type": "stream",
     "text": [
      "INFO - 18:20:50: collecting all words and their counts\n",
      "INFO - 18:20:50: PROGRESS: at sentence #0, processed 0 words and 0 word types\n",
      "INFO - 18:20:52: PROGRESS: at sentence #10000, processed 1452721 words and 484722 word types\n",
      "INFO - 18:20:54: PROGRESS: at sentence #20000, processed 2933448 words and 829515 word types\n",
      "INFO - 18:20:55: PROGRESS: at sentence #30000, processed 4416610 words and 1131514 word types\n",
      "INFO - 18:20:57: PROGRESS: at sentence #40000, processed 5846341 words and 1402395 word types\n",
      "INFO - 18:20:58: collected 1526423 token types (unigram + bigrams) from a corpus of 6540230 words and 45000 sentences\n",
      "INFO - 18:20:58: merged Phrases<1526423 vocab, min_count=30, threshold=10.0, max_vocab_size=40000000>\n",
      "INFO - 18:20:58: Phrases lifecycle event {'msg': 'built Phrases<1526423 vocab, min_count=30, threshold=10.0, max_vocab_size=40000000> in 7.84s', 'datetime': '2022-10-04T18:20:58.564483', 'gensim': '4.1.2', 'python': '3.9.12 (main, Apr  5 2022, 01:53:17) \\n[Clang 12.0.0 ]', 'platform': 'macOS-10.16-x86_64-i386-64bit', 'event': 'created'}\n"
     ]
    }
   ],
   "source": [
    "phrases = Phrases(sent,min_count=30, progress_per=10000)"
   ]
  },
  {
   "cell_type": "markdown",
   "metadata": {},
   "source": [
    "The goal of Phraser() is to cut down memory consumption of Phrases(), by discarding model state not strictly needed for the bigram detection task:"
   ]
  },
  {
   "cell_type": "code",
   "execution_count": 13,
   "metadata": {},
   "outputs": [
    {
     "name": "stderr",
     "output_type": "stream",
     "text": [
      "INFO - 18:20:58: exporting phrases from Phrases<1526423 vocab, min_count=30, threshold=10.0, max_vocab_size=40000000>\n",
      "INFO - 18:21:01: FrozenPhrases lifecycle event {'msg': 'exported FrozenPhrases<3257 phrases, min_count=30, threshold=10.0> from Phrases<1526423 vocab, min_count=30, threshold=10.0, max_vocab_size=40000000> in 2.96s', 'datetime': '2022-10-04T18:21:01.532827', 'gensim': '4.1.2', 'python': '3.9.12 (main, Apr  5 2022, 01:53:17) \\n[Clang 12.0.0 ]', 'platform': 'macOS-10.16-x86_64-i386-64bit', 'event': 'created'}\n"
     ]
    }
   ],
   "source": [
    "bigram = Phraser(phrases)"
   ]
  },
  {
   "cell_type": "markdown",
   "metadata": {},
   "source": [
    "Transform the corpus based on the bigrams detected:"
   ]
  },
  {
   "cell_type": "code",
   "execution_count": 14,
   "metadata": {},
   "outputs": [],
   "source": [
    "sentences = bigram[sent]"
   ]
  },
  {
   "cell_type": "markdown",
   "metadata": {},
   "source": [
    "## <a id='Frequent'>Most Frequent Words:</a>\n",
    "Mainly a sanity check of the effectiveness of the lemmatization, removal of stopwords, and addition of bigrams."
   ]
  },
  {
   "cell_type": "code",
   "execution_count": 15,
   "metadata": {},
   "outputs": [
    {
     "data": {
      "text/plain": [
       "140897"
      ]
     },
     "execution_count": 15,
     "metadata": {},
     "output_type": "execute_result"
    }
   ],
   "source": [
    "word_freq = defaultdict(int)\n",
    "for sent in sentences:\n",
    "    for i in sent:\n",
    "        word_freq[i] += 1\n",
    "len(word_freq)"
   ]
  },
  {
   "cell_type": "markdown",
   "metadata": {},
   "source": [
    "## <a id='Model'>Training the model</a>\n",
    "## Gensim Word2Vec Implementation:\n",
    "We use Gensim implementation of word2vec:"
   ]
  },
  {
   "cell_type": "markdown",
   "metadata": {},
   "source": [
    "## Model in 3 Steps: \n",
    "\n",
    "1. `Word2Vec()`: \n",
    ">In this first step, I set up the parameters of the model one-by-one. <br>I do not supply the parameter `sentences`, and therefore leave the model uninitialized, purposefully.\n",
    "2. `.build_vocab()`: \n",
    ">Here it builds the vocabulary from a sequence of sentences and thus initialized the model. <br>With the loggings, I can follow the progress and even more important, the effect of `min_count` and `sample` on the word corpus. \n",
    "3. `.train()`:\n",
    ">Finally, trains the model.<br>\n",
    "The loggings here are mainly useful for monitoring, making sure that no threads are executed instantaneously."
   ]
  },
  {
   "cell_type": "code",
   "execution_count": 19,
   "metadata": {},
   "outputs": [],
   "source": [
    "cores = multiprocessing.cpu_count() # Count the number of cores in a computer"
   ]
  },
  {
   "cell_type": "markdown",
   "metadata": {},
   "source": [
    "## <a id='parms'> The parameters </a> :\n",
    "\n",
    "* `min_count` <font color='purple'>=</font> <font color='green'>int</font> - Ignores all words with total absolute frequency lower than this - (2, 100)\n",
    "\n",
    "\n",
    "* `window` <font color='purple'>=</font> <font color='green'>int</font> - The maximum distance between the current and predicted word within a sentence. E.g. `window` words on the left and `window` words on the left of our target - (2, 10)\n",
    "\n",
    "\n",
    "* `vector_size` <font color='purple'>=</font> <font color='green'>int</font> - Dimensionality of the feature vectors. - (50, 300)\n",
    "\n",
    "\n",
    "* `negative` <font color='purple'>=</font> <font color='green'>int</font> - If > 0, negative sampling will be used, the int for negative specifies how many \"noise words\" should be drown. If set to 0, no negative sampling is used. - (5, 20)\n",
    "\n",
    "\n",
    "* `workers` <font color='purple'>=</font> <font color='green'>int</font> - Use these many worker threads to train the model (=faster training with multicore machines)"
   ]
  },
  {
   "cell_type": "code",
   "execution_count": 22,
   "metadata": {},
   "outputs": [
    {
     "name": "stderr",
     "output_type": "stream",
     "text": [
      "INFO - 18:22:53: Word2Vec lifecycle event {'params': 'Word2Vec(vocab=0, vector_size=300, alpha=0.03)', 'datetime': '2022-10-04T18:22:53.984084', 'gensim': '4.1.2', 'python': '3.9.12 (main, Apr  5 2022, 01:53:17) \\n[Clang 12.0.0 ]', 'platform': 'macOS-10.16-x86_64-i386-64bit', 'event': 'created'}\n"
     ]
    }
   ],
   "source": [
    "w2v_model = Word2Vec(min_count=20,\n",
    "                     window=2,\n",
    "                     vector_size=300,\n",
    "                     sample=6e-5, \n",
    "                     alpha=0.03, \n",
    "                     min_alpha=0.0007, \n",
    "                     negative=20,\n",
    "                     workers=cores-1)"
   ]
  },
  {
   "cell_type": "markdown",
   "metadata": {},
   "source": [
    "## <a id='Vocab'> Building the Vocabulary Table:</a>\n",
    "Word2Vec requires us to build the vocabulary table (simply digesting all the words and filtering out the unique words, and doing some basic counts on them):"
   ]
  },
  {
   "cell_type": "code",
   "execution_count": 23,
   "metadata": {},
   "outputs": [
    {
     "name": "stderr",
     "output_type": "stream",
     "text": [
      "INFO - 18:22:58: collecting all words and their counts\n",
      "INFO - 18:22:58: PROGRESS: at sentence #0, processed 0 words, keeping 0 word types\n",
      "INFO - 18:22:59: PROGRESS: at sentence #10000, processed 1339511 words, keeping 50091 word types\n",
      "INFO - 18:23:00: PROGRESS: at sentence #20000, processed 2704469 words, keeping 79938 word types\n",
      "INFO - 18:23:02: PROGRESS: at sentence #30000, processed 4062766 words, keeping 105741 word types\n",
      "INFO - 18:23:03: PROGRESS: at sentence #40000, processed 5380844 words, keeping 129715 word types\n",
      "INFO - 18:23:03: collected 140897 word types from a corpus of 6022014 raw words and 45000 sentences\n",
      "INFO - 18:23:03: Creating a fresh vocabulary\n",
      "INFO - 18:23:03: Word2Vec lifecycle event {'msg': 'effective_min_count=20 retains 13378 unique words (9.49487923802494%% of original 140897, drops 127519)', 'datetime': '2022-10-04T18:23:03.931222', 'gensim': '4.1.2', 'python': '3.9.12 (main, Apr  5 2022, 01:53:17) \\n[Clang 12.0.0 ]', 'platform': 'macOS-10.16-x86_64-i386-64bit', 'event': 'prepare_vocab'}\n",
      "INFO - 18:23:03: Word2Vec lifecycle event {'msg': 'effective_min_count=20 leaves 5643549 word corpus (93.71530853299245%% of original 6022014, drops 378465)', 'datetime': '2022-10-04T18:23:03.932007', 'gensim': '4.1.2', 'python': '3.9.12 (main, Apr  5 2022, 01:53:17) \\n[Clang 12.0.0 ]', 'platform': 'macOS-10.16-x86_64-i386-64bit', 'event': 'prepare_vocab'}\n",
      "INFO - 18:23:04: deleting the raw counts dictionary of 140897 items\n",
      "INFO - 18:23:04: sample=6e-05 downsamples 780 most-common words\n",
      "INFO - 18:23:04: Word2Vec lifecycle event {'msg': 'downsampling leaves estimated 2520355.3287070375 word corpus (44.7%% of prior 5643549)', 'datetime': '2022-10-04T18:23:04.032201', 'gensim': '4.1.2', 'python': '3.9.12 (main, Apr  5 2022, 01:53:17) \\n[Clang 12.0.0 ]', 'platform': 'macOS-10.16-x86_64-i386-64bit', 'event': 'prepare_vocab'}\n",
      "INFO - 18:23:04: estimated required memory for 13378 words and 300 dimensions: 38796200 bytes\n",
      "INFO - 18:23:04: resetting layer weights\n",
      "INFO - 18:23:04: Word2Vec lifecycle event {'update': False, 'trim_rule': 'None', 'datetime': '2022-10-04T18:23:04.187309', 'gensim': '4.1.2', 'python': '3.9.12 (main, Apr  5 2022, 01:53:17) \\n[Clang 12.0.0 ]', 'platform': 'macOS-10.16-x86_64-i386-64bit', 'event': 'build_vocab'}\n"
     ]
    },
    {
     "name": "stdout",
     "output_type": "stream",
     "text": [
      "Time to build vocab: 0.1 mins\n"
     ]
    }
   ],
   "source": [
    "t = time()\n",
    "\n",
    "w2v_model.build_vocab(sentences, update=False)\n",
    "\n",
    "\n",
    "print('Time to build vocab: {} mins'.format(round((time() - t) / 60, 2)))"
   ]
  },
  {
   "cell_type": "markdown",
   "metadata": {},
   "source": [
    "## <a id='Training'> Training of the model:</a>\n",
    "_Parameters of the training:_\n",
    "* `total_examples` <font color='purple'>=</font> <font color='green'>int</font> - Count of sentences;\n",
    "* `epochs` <font color='purple'>=</font> <font color='green'>int</font> - Number of iterations (epochs) over the corpus - [10, 20, 30]"
   ]
  },
  {
   "cell_type": "code",
   "execution_count": 24,
   "metadata": {},
   "outputs": [
    {
     "name": "stderr",
     "output_type": "stream",
     "text": [
      "INFO - 18:23:06: Word2Vec lifecycle event {'msg': 'training model with 11 workers on 13378 vocabulary and 300 features, using sg=0 hs=0 sample=6e-05 negative=20 window=2 shrink_windows=True', 'datetime': '2022-10-04T18:23:06.945783', 'gensim': '4.1.2', 'python': '3.9.12 (main, Apr  5 2022, 01:53:17) \\n[Clang 12.0.0 ]', 'platform': 'macOS-10.16-x86_64-i386-64bit', 'event': 'train'}\n",
      "INFO - 18:23:07: EPOCH 1 - PROGRESS: at 9.65% examples, 241967 words/s, in_qsize 22, out_qsize 0\n",
      "INFO - 18:23:09: EPOCH 1 - PROGRESS: at 23.73% examples, 288505 words/s, in_qsize 21, out_qsize 0\n",
      "INFO - 18:23:10: EPOCH 1 - PROGRESS: at 35.87% examples, 296665 words/s, in_qsize 13, out_qsize 8\n",
      "INFO - 18:23:11: EPOCH 1 - PROGRESS: at 48.95% examples, 305373 words/s, in_qsize 20, out_qsize 2\n",
      "INFO - 18:23:12: EPOCH 1 - PROGRESS: at 63.95% examples, 318527 words/s, in_qsize 21, out_qsize 0\n",
      "INFO - 18:23:13: EPOCH 1 - PROGRESS: at 78.76% examples, 325869 words/s, in_qsize 21, out_qsize 0\n",
      "INFO - 18:23:14: EPOCH 1 - PROGRESS: at 93.35% examples, 329335 words/s, in_qsize 21, out_qsize 0\n",
      "INFO - 18:23:14: worker thread finished; awaiting finish of 10 more threads\n",
      "INFO - 18:23:14: worker thread finished; awaiting finish of 9 more threads\n",
      "INFO - 18:23:14: worker thread finished; awaiting finish of 8 more threads\n",
      "INFO - 18:23:14: worker thread finished; awaiting finish of 7 more threads\n",
      "INFO - 18:23:14: worker thread finished; awaiting finish of 6 more threads\n",
      "INFO - 18:23:14: worker thread finished; awaiting finish of 5 more threads\n",
      "INFO - 18:23:14: worker thread finished; awaiting finish of 4 more threads\n",
      "INFO - 18:23:14: worker thread finished; awaiting finish of 3 more threads\n",
      "INFO - 18:23:14: worker thread finished; awaiting finish of 2 more threads\n",
      "INFO - 18:23:14: worker thread finished; awaiting finish of 1 more threads\n",
      "INFO - 18:23:14: worker thread finished; awaiting finish of 0 more threads\n",
      "INFO - 18:23:14: EPOCH - 1 : training on 6022014 raw words (2520124 effective words) took 7.4s, 339084 effective words/s\n",
      "INFO - 18:23:15: EPOCH 2 - PROGRESS: at 10.43% examples, 262230 words/s, in_qsize 21, out_qsize 0\n",
      "INFO - 18:23:16: EPOCH 2 - PROGRESS: at 26.34% examples, 321074 words/s, in_qsize 21, out_qsize 0\n",
      "INFO - 18:23:17: EPOCH 2 - PROGRESS: at 40.40% examples, 334257 words/s, in_qsize 21, out_qsize 0\n",
      "INFO - 18:23:18: EPOCH 2 - PROGRESS: at 55.18% examples, 341824 words/s, in_qsize 21, out_qsize 0\n",
      "INFO - 18:23:19: EPOCH 2 - PROGRESS: at 69.89% examples, 344942 words/s, in_qsize 21, out_qsize 0\n",
      "INFO - 18:23:20: EPOCH 2 - PROGRESS: at 85.67% examples, 349991 words/s, in_qsize 22, out_qsize 0\n",
      "INFO - 18:23:21: worker thread finished; awaiting finish of 10 more threads\n",
      "INFO - 18:23:21: worker thread finished; awaiting finish of 9 more threads\n",
      "INFO - 18:23:21: worker thread finished; awaiting finish of 8 more threads\n",
      "INFO - 18:23:21: worker thread finished; awaiting finish of 7 more threads\n",
      "INFO - 18:23:21: worker thread finished; awaiting finish of 6 more threads\n",
      "INFO - 18:23:21: worker thread finished; awaiting finish of 5 more threads\n",
      "INFO - 18:23:21: worker thread finished; awaiting finish of 4 more threads\n",
      "INFO - 18:23:21: worker thread finished; awaiting finish of 3 more threads\n",
      "INFO - 18:23:21: worker thread finished; awaiting finish of 2 more threads\n",
      "INFO - 18:23:21: worker thread finished; awaiting finish of 1 more threads\n",
      "INFO - 18:23:21: worker thread finished; awaiting finish of 0 more threads\n",
      "INFO - 18:23:21: EPOCH - 2 : training on 6022014 raw words (2520295 effective words) took 6.9s, 362757 effective words/s\n",
      "INFO - 18:23:22: EPOCH 3 - PROGRESS: at 11.27% examples, 286530 words/s, in_qsize 15, out_qsize 0\n",
      "INFO - 18:23:23: EPOCH 3 - PROGRESS: at 25.88% examples, 320512 words/s, in_qsize 11, out_qsize 0\n",
      "INFO - 18:23:24: EPOCH 3 - PROGRESS: at 38.63% examples, 323693 words/s, in_qsize 15, out_qsize 0\n",
      "INFO - 18:23:25: EPOCH 3 - PROGRESS: at 51.11% examples, 318841 words/s, in_qsize 21, out_qsize 0\n",
      "INFO - 18:23:26: EPOCH 3 - PROGRESS: at 65.78% examples, 329619 words/s, in_qsize 22, out_qsize 0\n",
      "INFO - 18:23:27: EPOCH 3 - PROGRESS: at 78.93% examples, 329799 words/s, in_qsize 13, out_qsize 9\n",
      "INFO - 18:23:28: EPOCH 3 - PROGRESS: at 93.21% examples, 329001 words/s, in_qsize 21, out_qsize 0\n",
      "INFO - 18:23:28: worker thread finished; awaiting finish of 10 more threads\n",
      "INFO - 18:23:28: worker thread finished; awaiting finish of 9 more threads\n",
      "INFO - 18:23:28: worker thread finished; awaiting finish of 8 more threads\n",
      "INFO - 18:23:28: worker thread finished; awaiting finish of 7 more threads\n",
      "INFO - 18:23:28: worker thread finished; awaiting finish of 6 more threads\n",
      "INFO - 18:23:28: worker thread finished; awaiting finish of 5 more threads\n",
      "INFO - 18:23:28: worker thread finished; awaiting finish of 4 more threads\n",
      "INFO - 18:23:28: worker thread finished; awaiting finish of 3 more threads\n",
      "INFO - 18:23:28: worker thread finished; awaiting finish of 2 more threads\n",
      "INFO - 18:23:28: worker thread finished; awaiting finish of 1 more threads\n",
      "INFO - 18:23:28: worker thread finished; awaiting finish of 0 more threads\n",
      "INFO - 18:23:28: EPOCH - 3 : training on 6022014 raw words (2520911 effective words) took 7.4s, 340857 effective words/s\n",
      "INFO - 18:23:29: EPOCH 4 - PROGRESS: at 8.25% examples, 210942 words/s, in_qsize 21, out_qsize 0\n",
      "INFO - 18:23:30: EPOCH 4 - PROGRESS: at 22.75% examples, 281136 words/s, in_qsize 15, out_qsize 0\n",
      "INFO - 18:23:31: EPOCH 4 - PROGRESS: at 37.28% examples, 310587 words/s, in_qsize 16, out_qsize 0\n",
      "INFO - 18:23:32: EPOCH 4 - PROGRESS: at 50.81% examples, 317361 words/s, in_qsize 16, out_qsize 6\n",
      "INFO - 18:23:33: EPOCH 4 - PROGRESS: at 65.96% examples, 328686 words/s, in_qsize 21, out_qsize 0\n",
      "INFO - 18:23:34: EPOCH 4 - PROGRESS: at 81.04% examples, 334275 words/s, in_qsize 22, out_qsize 0\n",
      "INFO - 18:23:35: EPOCH 4 - PROGRESS: at 97.81% examples, 345041 words/s, in_qsize 12, out_qsize 0\n",
      "INFO - 18:23:35: worker thread finished; awaiting finish of 10 more threads\n",
      "INFO - 18:23:35: worker thread finished; awaiting finish of 9 more threads\n",
      "INFO - 18:23:35: worker thread finished; awaiting finish of 8 more threads\n",
      "INFO - 18:23:35: worker thread finished; awaiting finish of 7 more threads\n",
      "INFO - 18:23:35: worker thread finished; awaiting finish of 6 more threads\n",
      "INFO - 18:23:35: worker thread finished; awaiting finish of 5 more threads\n",
      "INFO - 18:23:35: worker thread finished; awaiting finish of 4 more threads\n",
      "INFO - 18:23:35: worker thread finished; awaiting finish of 3 more threads\n",
      "INFO - 18:23:35: worker thread finished; awaiting finish of 2 more threads\n",
      "INFO - 18:23:35: worker thread finished; awaiting finish of 1 more threads\n",
      "INFO - 18:23:35: worker thread finished; awaiting finish of 0 more threads\n",
      "INFO - 18:23:35: EPOCH - 4 : training on 6022014 raw words (2522001 effective words) took 7.2s, 349669 effective words/s\n",
      "INFO - 18:23:36: EPOCH 5 - PROGRESS: at 11.13% examples, 287446 words/s, in_qsize 15, out_qsize 0\n",
      "INFO - 18:23:37: EPOCH 5 - PROGRESS: at 24.23% examples, 302979 words/s, in_qsize 18, out_qsize 4\n",
      "INFO - 18:23:39: EPOCH 5 - PROGRESS: at 38.28% examples, 316044 words/s, in_qsize 21, out_qsize 0\n",
      "INFO - 18:23:40: EPOCH 5 - PROGRESS: at 51.27% examples, 314611 words/s, in_qsize 20, out_qsize 1\n",
      "INFO - 18:23:41: EPOCH 5 - PROGRESS: at 63.16% examples, 309206 words/s, in_qsize 21, out_qsize 0\n",
      "INFO - 18:23:42: EPOCH 5 - PROGRESS: at 75.99% examples, 311176 words/s, in_qsize 22, out_qsize 0\n",
      "INFO - 18:23:43: EPOCH 5 - PROGRESS: at 90.06% examples, 311261 words/s, in_qsize 21, out_qsize 0\n",
      "INFO - 18:23:43: worker thread finished; awaiting finish of 10 more threads\n",
      "INFO - 18:23:43: worker thread finished; awaiting finish of 9 more threads\n",
      "INFO - 18:23:43: worker thread finished; awaiting finish of 8 more threads\n",
      "INFO - 18:23:43: worker thread finished; awaiting finish of 7 more threads\n",
      "INFO - 18:23:43: worker thread finished; awaiting finish of 6 more threads\n",
      "INFO - 18:23:43: worker thread finished; awaiting finish of 5 more threads\n",
      "INFO - 18:23:43: worker thread finished; awaiting finish of 4 more threads\n",
      "INFO - 18:23:43: worker thread finished; awaiting finish of 3 more threads\n",
      "INFO - 18:23:43: worker thread finished; awaiting finish of 2 more threads\n",
      "INFO - 18:23:43: worker thread finished; awaiting finish of 1 more threads\n"
     ]
    },
    {
     "name": "stderr",
     "output_type": "stream",
     "text": [
      "INFO - 18:23:43: worker thread finished; awaiting finish of 0 more threads\n",
      "INFO - 18:23:43: EPOCH - 5 : training on 6022014 raw words (2519156 effective words) took 7.9s, 320709 effective words/s\n",
      "INFO - 18:23:44: EPOCH 6 - PROGRESS: at 8.24% examples, 206803 words/s, in_qsize 19, out_qsize 0\n",
      "INFO - 18:23:45: EPOCH 6 - PROGRESS: at 21.24% examples, 262127 words/s, in_qsize 14, out_qsize 2\n",
      "INFO - 18:23:46: EPOCH 6 - PROGRESS: at 33.41% examples, 275674 words/s, in_qsize 13, out_qsize 8\n",
      "INFO - 18:23:47: EPOCH 6 - PROGRESS: at 46.89% examples, 294045 words/s, in_qsize 21, out_qsize 0\n",
      "INFO - 18:23:49: EPOCH 6 - PROGRESS: at 59.79% examples, 296302 words/s, in_qsize 13, out_qsize 9\n",
      "INFO - 18:23:50: EPOCH 6 - PROGRESS: at 73.69% examples, 301813 words/s, in_qsize 22, out_qsize 0\n",
      "INFO - 18:23:51: EPOCH 6 - PROGRESS: at 86.65% examples, 302112 words/s, in_qsize 21, out_qsize 0\n",
      "INFO - 18:23:51: worker thread finished; awaiting finish of 10 more threads\n",
      "INFO - 18:23:51: worker thread finished; awaiting finish of 9 more threads\n",
      "INFO - 18:23:51: worker thread finished; awaiting finish of 8 more threads\n",
      "INFO - 18:23:51: worker thread finished; awaiting finish of 7 more threads\n",
      "INFO - 18:23:51: worker thread finished; awaiting finish of 6 more threads\n",
      "INFO - 18:23:51: worker thread finished; awaiting finish of 5 more threads\n",
      "INFO - 18:23:51: worker thread finished; awaiting finish of 4 more threads\n",
      "INFO - 18:23:51: worker thread finished; awaiting finish of 3 more threads\n",
      "INFO - 18:23:51: worker thread finished; awaiting finish of 2 more threads\n",
      "INFO - 18:23:51: worker thread finished; awaiting finish of 1 more threads\n",
      "INFO - 18:23:51: worker thread finished; awaiting finish of 0 more threads\n",
      "INFO - 18:23:51: EPOCH - 6 : training on 6022014 raw words (2519890 effective words) took 8.0s, 314542 effective words/s\n",
      "INFO - 18:23:52: EPOCH 7 - PROGRESS: at 7.89% examples, 202309 words/s, in_qsize 15, out_qsize 7\n",
      "INFO - 18:23:53: EPOCH 7 - PROGRESS: at 21.41% examples, 266663 words/s, in_qsize 14, out_qsize 6\n",
      "INFO - 18:23:54: EPOCH 7 - PROGRESS: at 33.39% examples, 277948 words/s, in_qsize 21, out_qsize 1\n",
      "INFO - 18:23:55: EPOCH 7 - PROGRESS: at 46.93% examples, 294805 words/s, in_qsize 21, out_qsize 0\n",
      "INFO - 18:23:56: EPOCH 7 - PROGRESS: at 62.66% examples, 316603 words/s, in_qsize 14, out_qsize 0\n",
      "INFO - 18:23:57: EPOCH 7 - PROGRESS: at 72.57% examples, 304631 words/s, in_qsize 21, out_qsize 0\n",
      "INFO - 18:23:59: EPOCH 7 - PROGRESS: at 85.84% examples, 304367 words/s, in_qsize 21, out_qsize 0\n",
      "INFO - 18:23:59: worker thread finished; awaiting finish of 10 more threads\n",
      "INFO - 18:23:59: worker thread finished; awaiting finish of 9 more threads\n",
      "INFO - 18:23:59: worker thread finished; awaiting finish of 8 more threads\n",
      "INFO - 18:23:59: worker thread finished; awaiting finish of 7 more threads\n",
      "INFO - 18:23:59: worker thread finished; awaiting finish of 6 more threads\n",
      "INFO - 18:23:59: worker thread finished; awaiting finish of 5 more threads\n",
      "INFO - 18:23:59: worker thread finished; awaiting finish of 4 more threads\n",
      "INFO - 18:23:59: worker thread finished; awaiting finish of 3 more threads\n",
      "INFO - 18:23:59: worker thread finished; awaiting finish of 2 more threads\n",
      "INFO - 18:23:59: worker thread finished; awaiting finish of 1 more threads\n",
      "INFO - 18:23:59: worker thread finished; awaiting finish of 0 more threads\n",
      "INFO - 18:23:59: EPOCH - 7 : training on 6022014 raw words (2520345 effective words) took 7.9s, 320089 effective words/s\n",
      "INFO - 18:24:00: EPOCH 8 - PROGRESS: at 8.25% examples, 200478 words/s, in_qsize 18, out_qsize 3\n",
      "INFO - 18:24:01: EPOCH 8 - PROGRESS: at 20.37% examples, 248876 words/s, in_qsize 17, out_qsize 1\n",
      "INFO - 18:24:02: EPOCH 8 - PROGRESS: at 33.72% examples, 273521 words/s, in_qsize 21, out_qsize 0\n",
      "INFO - 18:24:03: EPOCH 8 - PROGRESS: at 48.28% examples, 297381 words/s, in_qsize 21, out_qsize 0\n",
      "INFO - 18:24:04: EPOCH 8 - PROGRESS: at 62.03% examples, 308798 words/s, in_qsize 21, out_qsize 0\n",
      "INFO - 18:24:05: EPOCH 8 - PROGRESS: at 76.15% examples, 314748 words/s, in_qsize 21, out_qsize 0\n",
      "INFO - 18:24:06: EPOCH 8 - PROGRESS: at 92.59% examples, 325803 words/s, in_qsize 18, out_qsize 0\n",
      "INFO - 18:24:07: worker thread finished; awaiting finish of 10 more threads\n",
      "INFO - 18:24:07: worker thread finished; awaiting finish of 9 more threads\n",
      "INFO - 18:24:07: worker thread finished; awaiting finish of 8 more threads\n",
      "INFO - 18:24:07: worker thread finished; awaiting finish of 7 more threads\n",
      "INFO - 18:24:07: worker thread finished; awaiting finish of 6 more threads\n",
      "INFO - 18:24:07: worker thread finished; awaiting finish of 5 more threads\n",
      "INFO - 18:24:07: worker thread finished; awaiting finish of 4 more threads\n",
      "INFO - 18:24:07: worker thread finished; awaiting finish of 3 more threads\n",
      "INFO - 18:24:07: worker thread finished; awaiting finish of 2 more threads\n",
      "INFO - 18:24:07: worker thread finished; awaiting finish of 1 more threads\n",
      "INFO - 18:24:07: worker thread finished; awaiting finish of 0 more threads\n",
      "INFO - 18:24:07: EPOCH - 8 : training on 6022014 raw words (2520403 effective words) took 7.5s, 335832 effective words/s\n",
      "INFO - 18:24:08: EPOCH 9 - PROGRESS: at 12.68% examples, 323856 words/s, in_qsize 0, out_qsize 1\n",
      "INFO - 18:24:09: EPOCH 9 - PROGRESS: at 26.02% examples, 323092 words/s, in_qsize 0, out_qsize 2\n",
      "INFO - 18:24:10: EPOCH 9 - PROGRESS: at 37.44% examples, 308017 words/s, in_qsize 21, out_qsize 0\n",
      "INFO - 18:24:11: EPOCH 9 - PROGRESS: at 52.00% examples, 320461 words/s, in_qsize 21, out_qsize 0\n",
      "INFO - 18:24:12: EPOCH 9 - PROGRESS: at 64.13% examples, 319097 words/s, in_qsize 21, out_qsize 0\n",
      "INFO - 18:24:13: EPOCH 9 - PROGRESS: at 75.60% examples, 314429 words/s, in_qsize 15, out_qsize 10\n",
      "INFO - 18:24:14: EPOCH 9 - PROGRESS: at 91.41% examples, 321832 words/s, in_qsize 21, out_qsize 0\n",
      "INFO - 18:24:14: worker thread finished; awaiting finish of 10 more threads\n",
      "INFO - 18:24:14: worker thread finished; awaiting finish of 9 more threads\n",
      "INFO - 18:24:14: worker thread finished; awaiting finish of 8 more threads\n",
      "INFO - 18:24:14: worker thread finished; awaiting finish of 7 more threads\n",
      "INFO - 18:24:14: worker thread finished; awaiting finish of 6 more threads\n",
      "INFO - 18:24:14: worker thread finished; awaiting finish of 5 more threads\n",
      "INFO - 18:24:14: worker thread finished; awaiting finish of 4 more threads\n",
      "INFO - 18:24:14: worker thread finished; awaiting finish of 3 more threads\n",
      "INFO - 18:24:14: worker thread finished; awaiting finish of 2 more threads\n",
      "INFO - 18:24:14: worker thread finished; awaiting finish of 1 more threads\n",
      "INFO - 18:24:14: worker thread finished; awaiting finish of 0 more threads\n",
      "INFO - 18:24:14: EPOCH - 9 : training on 6022014 raw words (2521027 effective words) took 7.5s, 334042 effective words/s\n",
      "INFO - 18:24:15: EPOCH 10 - PROGRESS: at 9.41% examples, 241590 words/s, in_qsize 14, out_qsize 8\n",
      "INFO - 18:24:16: EPOCH 10 - PROGRESS: at 23.11% examples, 280395 words/s, in_qsize 21, out_qsize 0\n",
      "INFO - 18:24:17: EPOCH 10 - PROGRESS: at 36.35% examples, 299467 words/s, in_qsize 21, out_qsize 0\n",
      "INFO - 18:24:18: EPOCH 10 - PROGRESS: at 49.52% examples, 306557 words/s, in_qsize 21, out_qsize 0\n",
      "INFO - 18:24:19: EPOCH 10 - PROGRESS: at 64.12% examples, 318841 words/s, in_qsize 21, out_qsize 0\n",
      "INFO - 18:24:21: EPOCH 10 - PROGRESS: at 77.32% examples, 315619 words/s, in_qsize 21, out_qsize 0\n",
      "INFO - 18:24:22: EPOCH 10 - PROGRESS: at 92.45% examples, 322884 words/s, in_qsize 13, out_qsize 0\n",
      "INFO - 18:24:22: worker thread finished; awaiting finish of 10 more threads\n",
      "INFO - 18:24:22: worker thread finished; awaiting finish of 9 more threads\n",
      "INFO - 18:24:22: worker thread finished; awaiting finish of 8 more threads\n",
      "INFO - 18:24:22: worker thread finished; awaiting finish of 7 more threads\n",
      "INFO - 18:24:22: worker thread finished; awaiting finish of 6 more threads\n",
      "INFO - 18:24:22: worker thread finished; awaiting finish of 5 more threads\n",
      "INFO - 18:24:22: worker thread finished; awaiting finish of 4 more threads\n",
      "INFO - 18:24:22: worker thread finished; awaiting finish of 3 more threads\n",
      "INFO - 18:24:22: worker thread finished; awaiting finish of 2 more threads\n",
      "INFO - 18:24:22: worker thread finished; awaiting finish of 1 more threads\n",
      "INFO - 18:24:22: worker thread finished; awaiting finish of 0 more threads\n"
     ]
    },
    {
     "name": "stderr",
     "output_type": "stream",
     "text": [
      "INFO - 18:24:22: EPOCH - 10 : training on 6022014 raw words (2520371 effective words) took 7.6s, 329832 effective words/s\n",
      "INFO - 18:24:23: EPOCH 11 - PROGRESS: at 9.14% examples, 233003 words/s, in_qsize 21, out_qsize 0\n",
      "INFO - 18:24:24: EPOCH 11 - PROGRESS: at 23.89% examples, 284104 words/s, in_qsize 21, out_qsize 0\n",
      "INFO - 18:24:25: EPOCH 11 - PROGRESS: at 38.62% examples, 313411 words/s, in_qsize 20, out_qsize 1\n",
      "INFO - 18:24:26: EPOCH 11 - PROGRESS: at 53.12% examples, 322406 words/s, in_qsize 21, out_qsize 0\n",
      "INFO - 18:24:27: EPOCH 11 - PROGRESS: at 67.11% examples, 330296 words/s, in_qsize 14, out_qsize 8\n",
      "INFO - 18:24:28: EPOCH 11 - PROGRESS: at 80.30% examples, 329387 words/s, in_qsize 21, out_qsize 0\n",
      "INFO - 18:24:29: EPOCH 11 - PROGRESS: at 96.22% examples, 337577 words/s, in_qsize 21, out_qsize 0\n",
      "INFO - 18:24:29: worker thread finished; awaiting finish of 10 more threads\n",
      "INFO - 18:24:29: worker thread finished; awaiting finish of 9 more threads\n",
      "INFO - 18:24:29: worker thread finished; awaiting finish of 8 more threads\n",
      "INFO - 18:24:29: worker thread finished; awaiting finish of 7 more threads\n",
      "INFO - 18:24:29: worker thread finished; awaiting finish of 6 more threads\n",
      "INFO - 18:24:29: worker thread finished; awaiting finish of 5 more threads\n",
      "INFO - 18:24:29: worker thread finished; awaiting finish of 4 more threads\n",
      "INFO - 18:24:29: worker thread finished; awaiting finish of 3 more threads\n",
      "INFO - 18:24:29: worker thread finished; awaiting finish of 2 more threads\n",
      "INFO - 18:24:29: worker thread finished; awaiting finish of 1 more threads\n",
      "INFO - 18:24:29: worker thread finished; awaiting finish of 0 more threads\n",
      "INFO - 18:24:29: EPOCH - 11 : training on 6022014 raw words (2520325 effective words) took 7.3s, 344913 effective words/s\n",
      "INFO - 18:24:30: EPOCH 12 - PROGRESS: at 9.31% examples, 240344 words/s, in_qsize 22, out_qsize 0\n",
      "INFO - 18:24:31: EPOCH 12 - PROGRESS: at 24.41% examples, 303074 words/s, in_qsize 21, out_qsize 0\n",
      "INFO - 18:24:32: EPOCH 12 - PROGRESS: at 36.38% examples, 303392 words/s, in_qsize 13, out_qsize 1\n",
      "INFO - 18:24:33: EPOCH 12 - PROGRESS: at 46.94% examples, 294775 words/s, in_qsize 21, out_qsize 0\n",
      "INFO - 18:24:34: EPOCH 12 - PROGRESS: at 59.81% examples, 301427 words/s, in_qsize 17, out_qsize 0\n",
      "INFO - 18:24:35: EPOCH 12 - PROGRESS: at 71.81% examples, 301754 words/s, in_qsize 15, out_qsize 0\n",
      "INFO - 18:24:36: EPOCH 12 - PROGRESS: at 84.38% examples, 301952 words/s, in_qsize 15, out_qsize 0\n",
      "INFO - 18:24:37: worker thread finished; awaiting finish of 10 more threads\n",
      "INFO - 18:24:37: worker thread finished; awaiting finish of 9 more threads\n",
      "INFO - 18:24:37: worker thread finished; awaiting finish of 8 more threads\n",
      "INFO - 18:24:37: worker thread finished; awaiting finish of 7 more threads\n",
      "INFO - 18:24:37: worker thread finished; awaiting finish of 6 more threads\n",
      "INFO - 18:24:37: worker thread finished; awaiting finish of 5 more threads\n",
      "INFO - 18:24:37: worker thread finished; awaiting finish of 4 more threads\n",
      "INFO - 18:24:37: worker thread finished; awaiting finish of 3 more threads\n",
      "INFO - 18:24:37: worker thread finished; awaiting finish of 2 more threads\n",
      "INFO - 18:24:37: worker thread finished; awaiting finish of 1 more threads\n",
      "INFO - 18:24:37: worker thread finished; awaiting finish of 0 more threads\n",
      "INFO - 18:24:37: EPOCH - 12 : training on 6022014 raw words (2519654 effective words) took 8.1s, 311861 effective words/s\n",
      "INFO - 18:24:38: EPOCH 13 - PROGRESS: at 11.12% examples, 275478 words/s, in_qsize 21, out_qsize 0\n",
      "INFO - 18:24:39: EPOCH 13 - PROGRESS: at 26.34% examples, 321793 words/s, in_qsize 11, out_qsize 1\n",
      "INFO - 18:24:40: EPOCH 13 - PROGRESS: at 37.28% examples, 309611 words/s, in_qsize 19, out_qsize 0\n",
      "INFO - 18:24:41: EPOCH 13 - PROGRESS: at 49.52% examples, 310000 words/s, in_qsize 12, out_qsize 0\n",
      "INFO - 18:24:42: EPOCH 13 - PROGRESS: at 59.84% examples, 300854 words/s, in_qsize 20, out_qsize 2\n",
      "INFO - 18:24:44: EPOCH 13 - PROGRESS: at 73.05% examples, 305872 words/s, in_qsize 21, out_qsize 0\n",
      "INFO - 18:24:45: EPOCH 13 - PROGRESS: at 89.25% examples, 318394 words/s, in_qsize 16, out_qsize 1\n",
      "INFO - 18:24:45: worker thread finished; awaiting finish of 10 more threads\n",
      "INFO - 18:24:45: worker thread finished; awaiting finish of 9 more threads\n",
      "INFO - 18:24:45: worker thread finished; awaiting finish of 8 more threads\n",
      "INFO - 18:24:45: worker thread finished; awaiting finish of 7 more threads\n",
      "INFO - 18:24:45: worker thread finished; awaiting finish of 6 more threads\n",
      "INFO - 18:24:45: worker thread finished; awaiting finish of 5 more threads\n",
      "INFO - 18:24:45: worker thread finished; awaiting finish of 4 more threads\n",
      "INFO - 18:24:45: worker thread finished; awaiting finish of 3 more threads\n",
      "INFO - 18:24:45: worker thread finished; awaiting finish of 2 more threads\n",
      "INFO - 18:24:45: worker thread finished; awaiting finish of 1 more threads\n",
      "INFO - 18:24:45: worker thread finished; awaiting finish of 0 more threads\n",
      "INFO - 18:24:45: EPOCH - 13 : training on 6022014 raw words (2521535 effective words) took 7.6s, 330384 effective words/s\n",
      "INFO - 18:24:46: EPOCH 14 - PROGRESS: at 11.13% examples, 283925 words/s, in_qsize 21, out_qsize 0\n",
      "INFO - 18:24:47: EPOCH 14 - PROGRESS: at 25.89% examples, 320035 words/s, in_qsize 21, out_qsize 0\n",
      "INFO - 18:24:48: EPOCH 14 - PROGRESS: at 39.94% examples, 329833 words/s, in_qsize 21, out_qsize 0\n",
      "INFO - 18:24:49: EPOCH 14 - PROGRESS: at 54.22% examples, 336626 words/s, in_qsize 21, out_qsize 0\n",
      "INFO - 18:24:50: EPOCH 14 - PROGRESS: at 68.40% examples, 342363 words/s, in_qsize 21, out_qsize 0\n",
      "INFO - 18:24:51: EPOCH 14 - PROGRESS: at 83.66% examples, 343870 words/s, in_qsize 21, out_qsize 0\n",
      "INFO - 18:24:52: worker thread finished; awaiting finish of 10 more threads\n",
      "INFO - 18:24:52: worker thread finished; awaiting finish of 9 more threads\n",
      "INFO - 18:24:52: worker thread finished; awaiting finish of 8 more threads\n",
      "INFO - 18:24:52: worker thread finished; awaiting finish of 7 more threads\n",
      "INFO - 18:24:52: worker thread finished; awaiting finish of 6 more threads\n",
      "INFO - 18:24:52: worker thread finished; awaiting finish of 5 more threads\n",
      "INFO - 18:24:52: worker thread finished; awaiting finish of 4 more threads\n",
      "INFO - 18:24:52: worker thread finished; awaiting finish of 3 more threads\n",
      "INFO - 18:24:52: worker thread finished; awaiting finish of 2 more threads\n",
      "INFO - 18:24:52: worker thread finished; awaiting finish of 1 more threads\n",
      "INFO - 18:24:52: worker thread finished; awaiting finish of 0 more threads\n",
      "INFO - 18:24:52: EPOCH - 14 : training on 6022014 raw words (2519949 effective words) took 7.1s, 354299 effective words/s\n",
      "INFO - 18:24:53: EPOCH 15 - PROGRESS: at 7.75% examples, 197741 words/s, in_qsize 21, out_qsize 0\n",
      "INFO - 18:24:54: EPOCH 15 - PROGRESS: at 20.21% examples, 236693 words/s, in_qsize 19, out_qsize 4\n",
      "INFO - 18:24:55: EPOCH 15 - PROGRESS: at 31.99% examples, 253272 words/s, in_qsize 14, out_qsize 8\n",
      "INFO - 18:24:56: EPOCH 15 - PROGRESS: at 44.84% examples, 271884 words/s, in_qsize 21, out_qsize 1\n",
      "INFO - 18:24:57: EPOCH 15 - PROGRESS: at 59.14% examples, 290780 words/s, in_qsize 19, out_qsize 3\n",
      "INFO - 18:24:58: EPOCH 15 - PROGRESS: at 73.18% examples, 301696 words/s, in_qsize 21, out_qsize 0\n",
      "INFO - 18:24:59: EPOCH 15 - PROGRESS: at 88.00% examples, 309816 words/s, in_qsize 21, out_qsize 0\n",
      "INFO - 18:25:00: worker thread finished; awaiting finish of 10 more threads\n",
      "INFO - 18:25:00: worker thread finished; awaiting finish of 9 more threads\n",
      "INFO - 18:25:00: worker thread finished; awaiting finish of 8 more threads\n",
      "INFO - 18:25:00: worker thread finished; awaiting finish of 7 more threads\n",
      "INFO - 18:25:00: worker thread finished; awaiting finish of 6 more threads\n",
      "INFO - 18:25:00: worker thread finished; awaiting finish of 5 more threads\n",
      "INFO - 18:25:00: worker thread finished; awaiting finish of 4 more threads\n",
      "INFO - 18:25:00: worker thread finished; awaiting finish of 3 more threads\n",
      "INFO - 18:25:00: worker thread finished; awaiting finish of 2 more threads\n",
      "INFO - 18:25:00: worker thread finished; awaiting finish of 1 more threads\n",
      "INFO - 18:25:00: worker thread finished; awaiting finish of 0 more threads\n",
      "INFO - 18:25:00: EPOCH - 15 : training on 6022014 raw words (2520009 effective words) took 7.8s, 323326 effective words/s\n"
     ]
    },
    {
     "name": "stderr",
     "output_type": "stream",
     "text": [
      "INFO - 18:25:01: EPOCH 16 - PROGRESS: at 9.97% examples, 243775 words/s, in_qsize 21, out_qsize 0\n",
      "INFO - 18:25:02: EPOCH 16 - PROGRESS: at 22.57% examples, 274224 words/s, in_qsize 21, out_qsize 1\n",
      "INFO - 18:25:03: EPOCH 16 - PROGRESS: at 35.56% examples, 285692 words/s, in_qsize 21, out_qsize 0\n",
      "INFO - 18:25:04: EPOCH 16 - PROGRESS: at 48.80% examples, 287412 words/s, in_qsize 21, out_qsize 0\n",
      "INFO - 18:25:05: EPOCH 16 - PROGRESS: at 61.61% examples, 289583 words/s, in_qsize 21, out_qsize 0\n",
      "INFO - 18:25:06: EPOCH 16 - PROGRESS: at 73.07% examples, 289272 words/s, in_qsize 19, out_qsize 2\n",
      "INFO - 18:25:07: EPOCH 16 - PROGRESS: at 86.31% examples, 292176 words/s, in_qsize 21, out_qsize 0\n",
      "INFO - 18:25:08: worker thread finished; awaiting finish of 10 more threads\n",
      "INFO - 18:25:08: worker thread finished; awaiting finish of 9 more threads\n",
      "INFO - 18:25:08: worker thread finished; awaiting finish of 8 more threads\n",
      "INFO - 18:25:08: worker thread finished; awaiting finish of 7 more threads\n",
      "INFO - 18:25:08: worker thread finished; awaiting finish of 6 more threads\n",
      "INFO - 18:25:08: worker thread finished; awaiting finish of 5 more threads\n",
      "INFO - 18:25:08: worker thread finished; awaiting finish of 4 more threads\n",
      "INFO - 18:25:08: worker thread finished; awaiting finish of 3 more threads\n",
      "INFO - 18:25:08: worker thread finished; awaiting finish of 2 more threads\n",
      "INFO - 18:25:08: worker thread finished; awaiting finish of 1 more threads\n",
      "INFO - 18:25:08: worker thread finished; awaiting finish of 0 more threads\n",
      "INFO - 18:25:08: EPOCH - 16 : training on 6022014 raw words (2520142 effective words) took 8.4s, 299826 effective words/s\n",
      "INFO - 18:25:09: EPOCH 17 - PROGRESS: at 9.36% examples, 241150 words/s, in_qsize 21, out_qsize 0\n",
      "INFO - 18:25:10: EPOCH 17 - PROGRESS: at 24.05% examples, 297374 words/s, in_qsize 15, out_qsize 0\n",
      "INFO - 18:25:12: EPOCH 17 - PROGRESS: at 36.84% examples, 296392 words/s, in_qsize 18, out_qsize 4\n",
      "INFO - 18:25:13: EPOCH 17 - PROGRESS: at 50.81% examples, 308647 words/s, in_qsize 21, out_qsize 0\n",
      "INFO - 18:25:14: EPOCH 17 - PROGRESS: at 65.63% examples, 318312 words/s, in_qsize 22, out_qsize 0\n",
      "INFO - 18:25:15: EPOCH 17 - PROGRESS: at 78.74% examples, 318855 words/s, in_qsize 21, out_qsize 0\n",
      "INFO - 18:25:16: EPOCH 17 - PROGRESS: at 92.60% examples, 321478 words/s, in_qsize 18, out_qsize 4\n",
      "INFO - 18:25:16: worker thread finished; awaiting finish of 10 more threads\n",
      "INFO - 18:25:16: worker thread finished; awaiting finish of 9 more threads\n",
      "INFO - 18:25:16: worker thread finished; awaiting finish of 8 more threads\n",
      "INFO - 18:25:16: worker thread finished; awaiting finish of 7 more threads\n",
      "INFO - 18:25:16: worker thread finished; awaiting finish of 6 more threads\n",
      "INFO - 18:25:16: worker thread finished; awaiting finish of 5 more threads\n",
      "INFO - 18:25:16: worker thread finished; awaiting finish of 4 more threads\n",
      "INFO - 18:25:16: worker thread finished; awaiting finish of 3 more threads\n",
      "INFO - 18:25:16: worker thread finished; awaiting finish of 2 more threads\n",
      "INFO - 18:25:16: worker thread finished; awaiting finish of 1 more threads\n",
      "INFO - 18:25:16: worker thread finished; awaiting finish of 0 more threads\n",
      "INFO - 18:25:16: EPOCH - 17 : training on 6022014 raw words (2519859 effective words) took 7.5s, 333861 effective words/s\n",
      "INFO - 18:25:17: EPOCH 18 - PROGRESS: at 9.93% examples, 257506 words/s, in_qsize 14, out_qsize 2\n",
      "INFO - 18:25:18: EPOCH 18 - PROGRESS: at 23.28% examples, 279126 words/s, in_qsize 13, out_qsize 10\n",
      "INFO - 18:25:19: EPOCH 18 - PROGRESS: at 37.00% examples, 303008 words/s, in_qsize 21, out_qsize 0\n",
      "INFO - 18:25:20: EPOCH 18 - PROGRESS: at 50.23% examples, 311035 words/s, in_qsize 15, out_qsize 7\n",
      "INFO - 18:25:21: EPOCH 18 - PROGRESS: at 63.53% examples, 317315 words/s, in_qsize 22, out_qsize 0\n",
      "INFO - 18:25:22: EPOCH 18 - PROGRESS: at 77.62% examples, 323281 words/s, in_qsize 15, out_qsize 1\n",
      "INFO - 18:25:23: EPOCH 18 - PROGRESS: at 90.89% examples, 321123 words/s, in_qsize 21, out_qsize 0\n",
      "INFO - 18:25:23: worker thread finished; awaiting finish of 10 more threads\n",
      "INFO - 18:25:23: worker thread finished; awaiting finish of 9 more threads\n",
      "INFO - 18:25:23: worker thread finished; awaiting finish of 8 more threads\n",
      "INFO - 18:25:23: worker thread finished; awaiting finish of 7 more threads\n",
      "INFO - 18:25:23: worker thread finished; awaiting finish of 6 more threads\n",
      "INFO - 18:25:23: worker thread finished; awaiting finish of 5 more threads\n",
      "INFO - 18:25:23: worker thread finished; awaiting finish of 4 more threads\n",
      "INFO - 18:25:23: worker thread finished; awaiting finish of 3 more threads\n",
      "INFO - 18:25:23: worker thread finished; awaiting finish of 2 more threads\n",
      "INFO - 18:25:23: worker thread finished; awaiting finish of 1 more threads\n",
      "INFO - 18:25:24: worker thread finished; awaiting finish of 0 more threads\n",
      "INFO - 18:25:24: EPOCH - 18 : training on 6022014 raw words (2520338 effective words) took 7.6s, 333699 effective words/s\n",
      "INFO - 18:25:25: EPOCH 19 - PROGRESS: at 9.17% examples, 233813 words/s, in_qsize 14, out_qsize 8\n",
      "INFO - 18:25:26: EPOCH 19 - PROGRESS: at 23.39% examples, 290171 words/s, in_qsize 18, out_qsize 0\n",
      "INFO - 18:25:27: EPOCH 19 - PROGRESS: at 35.72% examples, 298951 words/s, in_qsize 21, out_qsize 0\n",
      "INFO - 18:25:28: EPOCH 19 - PROGRESS: at 49.20% examples, 306946 words/s, in_qsize 21, out_qsize 0\n",
      "INFO - 18:25:29: EPOCH 19 - PROGRESS: at 62.17% examples, 310937 words/s, in_qsize 21, out_qsize 0\n",
      "INFO - 18:25:30: EPOCH 19 - PROGRESS: at 76.15% examples, 318127 words/s, in_qsize 15, out_qsize 0\n",
      "INFO - 18:25:31: EPOCH 19 - PROGRESS: at 88.79% examples, 316029 words/s, in_qsize 19, out_qsize 3\n",
      "INFO - 18:25:31: worker thread finished; awaiting finish of 10 more threads\n",
      "INFO - 18:25:31: worker thread finished; awaiting finish of 9 more threads\n",
      "INFO - 18:25:31: worker thread finished; awaiting finish of 8 more threads\n",
      "INFO - 18:25:31: worker thread finished; awaiting finish of 7 more threads\n",
      "INFO - 18:25:31: worker thread finished; awaiting finish of 6 more threads\n",
      "INFO - 18:25:31: worker thread finished; awaiting finish of 5 more threads\n",
      "INFO - 18:25:31: worker thread finished; awaiting finish of 4 more threads\n",
      "INFO - 18:25:31: worker thread finished; awaiting finish of 3 more threads\n",
      "INFO - 18:25:31: worker thread finished; awaiting finish of 2 more threads\n",
      "INFO - 18:25:31: worker thread finished; awaiting finish of 1 more threads\n",
      "INFO - 18:25:31: worker thread finished; awaiting finish of 0 more threads\n",
      "INFO - 18:25:31: EPOCH - 19 : training on 6022014 raw words (2520524 effective words) took 7.7s, 328862 effective words/s\n",
      "INFO - 18:25:32: EPOCH 20 - PROGRESS: at 9.20% examples, 233615 words/s, in_qsize 21, out_qsize 0\n",
      "INFO - 18:25:33: EPOCH 20 - PROGRESS: at 23.53% examples, 286396 words/s, in_qsize 20, out_qsize 0\n",
      "INFO - 18:25:34: EPOCH 20 - PROGRESS: at 36.08% examples, 293231 words/s, in_qsize 21, out_qsize 0\n",
      "INFO - 18:25:35: EPOCH 20 - PROGRESS: at 48.48% examples, 298667 words/s, in_qsize 21, out_qsize 0\n",
      "INFO - 18:25:36: EPOCH 20 - PROGRESS: at 60.75% examples, 301470 words/s, in_qsize 20, out_qsize 1\n",
      "INFO - 18:25:37: EPOCH 20 - PROGRESS: at 72.87% examples, 302613 words/s, in_qsize 20, out_qsize 2\n",
      "INFO - 18:25:38: EPOCH 20 - PROGRESS: at 85.52% examples, 302886 words/s, in_qsize 21, out_qsize 0\n",
      "INFO - 18:25:39: worker thread finished; awaiting finish of 10 more threads\n",
      "INFO - 18:25:39: worker thread finished; awaiting finish of 9 more threads\n",
      "INFO - 18:25:39: worker thread finished; awaiting finish of 8 more threads\n",
      "INFO - 18:25:39: worker thread finished; awaiting finish of 7 more threads\n",
      "INFO - 18:25:39: worker thread finished; awaiting finish of 6 more threads\n",
      "INFO - 18:25:39: worker thread finished; awaiting finish of 5 more threads\n",
      "INFO - 18:25:39: worker thread finished; awaiting finish of 4 more threads\n",
      "INFO - 18:25:39: worker thread finished; awaiting finish of 3 more threads\n",
      "INFO - 18:25:39: worker thread finished; awaiting finish of 2 more threads\n",
      "INFO - 18:25:39: worker thread finished; awaiting finish of 1 more threads\n",
      "INFO - 18:25:39: worker thread finished; awaiting finish of 0 more threads\n",
      "INFO - 18:25:39: EPOCH - 20 : training on 6022014 raw words (2519903 effective words) took 8.0s, 314017 effective words/s\n"
     ]
    },
    {
     "name": "stderr",
     "output_type": "stream",
     "text": [
      "INFO - 18:25:40: EPOCH 21 - PROGRESS: at 8.39% examples, 213504 words/s, in_qsize 13, out_qsize 4\n",
      "INFO - 18:25:41: EPOCH 21 - PROGRESS: at 20.04% examples, 249416 words/s, in_qsize 20, out_qsize 1\n",
      "INFO - 18:25:42: EPOCH 21 - PROGRESS: at 31.92% examples, 263860 words/s, in_qsize 21, out_qsize 0\n",
      "INFO - 18:25:43: EPOCH 21 - PROGRESS: at 43.49% examples, 272102 words/s, in_qsize 14, out_qsize 6\n",
      "INFO - 18:25:44: EPOCH 21 - PROGRESS: at 55.33% examples, 277729 words/s, in_qsize 19, out_qsize 0\n",
      "INFO - 18:25:45: EPOCH 21 - PROGRESS: at 66.28% examples, 278110 words/s, in_qsize 21, out_qsize 0\n",
      "INFO - 18:25:46: EPOCH 21 - PROGRESS: at 78.35% examples, 282067 words/s, in_qsize 21, out_qsize 0\n",
      "INFO - 18:25:47: EPOCH 21 - PROGRESS: at 90.54% examples, 283044 words/s, in_qsize 21, out_qsize 0\n",
      "INFO - 18:25:48: worker thread finished; awaiting finish of 10 more threads\n",
      "INFO - 18:25:48: worker thread finished; awaiting finish of 9 more threads\n",
      "INFO - 18:25:48: worker thread finished; awaiting finish of 8 more threads\n",
      "INFO - 18:25:48: worker thread finished; awaiting finish of 7 more threads\n",
      "INFO - 18:25:48: worker thread finished; awaiting finish of 6 more threads\n",
      "INFO - 18:25:48: worker thread finished; awaiting finish of 5 more threads\n",
      "INFO - 18:25:48: worker thread finished; awaiting finish of 4 more threads\n",
      "INFO - 18:25:48: worker thread finished; awaiting finish of 3 more threads\n",
      "INFO - 18:25:48: worker thread finished; awaiting finish of 2 more threads\n",
      "INFO - 18:25:48: worker thread finished; awaiting finish of 1 more threads\n",
      "INFO - 18:25:48: worker thread finished; awaiting finish of 0 more threads\n",
      "INFO - 18:25:48: EPOCH - 21 : training on 6022014 raw words (2520318 effective words) took 8.6s, 292401 effective words/s\n",
      "INFO - 18:25:49: EPOCH 22 - PROGRESS: at 10.44% examples, 269672 words/s, in_qsize 0, out_qsize 2\n",
      "INFO - 18:25:50: EPOCH 22 - PROGRESS: at 19.54% examples, 244975 words/s, in_qsize 20, out_qsize 2\n",
      "INFO - 18:25:51: EPOCH 22 - PROGRESS: at 31.64% examples, 263432 words/s, in_qsize 15, out_qsize 0\n",
      "INFO - 18:25:52: EPOCH 22 - PROGRESS: at 40.92% examples, 257630 words/s, in_qsize 22, out_qsize 0\n",
      "INFO - 18:25:53: EPOCH 22 - PROGRESS: at 51.57% examples, 255843 words/s, in_qsize 21, out_qsize 0\n",
      "INFO - 18:25:54: EPOCH 22 - PROGRESS: at 62.16% examples, 259584 words/s, in_qsize 21, out_qsize 0\n",
      "INFO - 18:25:55: EPOCH 22 - PROGRESS: at 74.01% examples, 263208 words/s, in_qsize 20, out_qsize 0\n",
      "INFO - 18:25:56: EPOCH 22 - PROGRESS: at 85.01% examples, 263158 words/s, in_qsize 21, out_qsize 0\n",
      "INFO - 18:25:57: worker thread finished; awaiting finish of 10 more threads\n",
      "INFO - 18:25:57: worker thread finished; awaiting finish of 9 more threads\n",
      "INFO - 18:25:57: worker thread finished; awaiting finish of 8 more threads\n",
      "INFO - 18:25:57: worker thread finished; awaiting finish of 7 more threads\n",
      "INFO - 18:25:57: worker thread finished; awaiting finish of 6 more threads\n",
      "INFO - 18:25:57: worker thread finished; awaiting finish of 5 more threads\n",
      "INFO - 18:25:57: worker thread finished; awaiting finish of 4 more threads\n",
      "INFO - 18:25:57: worker thread finished; awaiting finish of 3 more threads\n",
      "INFO - 18:25:57: worker thread finished; awaiting finish of 2 more threads\n",
      "INFO - 18:25:57: worker thread finished; awaiting finish of 1 more threads\n",
      "INFO - 18:25:57: worker thread finished; awaiting finish of 0 more threads\n",
      "INFO - 18:25:57: EPOCH - 22 : training on 6022014 raw words (2519472 effective words) took 9.2s, 274013 effective words/s\n",
      "INFO - 18:25:58: EPOCH 23 - PROGRESS: at 7.44% examples, 190816 words/s, in_qsize 21, out_qsize 0\n",
      "INFO - 18:25:59: EPOCH 23 - PROGRESS: at 18.58% examples, 232068 words/s, in_qsize 21, out_qsize 0\n",
      "INFO - 18:26:00: EPOCH 23 - PROGRESS: at 29.85% examples, 248363 words/s, in_qsize 21, out_qsize 0\n",
      "INFO - 18:26:01: EPOCH 23 - PROGRESS: at 42.05% examples, 259443 words/s, in_qsize 22, out_qsize 0\n",
      "INFO - 18:26:02: EPOCH 23 - PROGRESS: at 53.78% examples, 265803 words/s, in_qsize 21, out_qsize 0\n",
      "INFO - 18:26:03: EPOCH 23 - PROGRESS: at 65.96% examples, 274669 words/s, in_qsize 15, out_qsize 0\n",
      "INFO - 18:26:04: EPOCH 23 - PROGRESS: at 76.66% examples, 274222 words/s, in_qsize 21, out_qsize 0\n",
      "INFO - 18:26:05: EPOCH 23 - PROGRESS: at 89.74% examples, 278990 words/s, in_qsize 21, out_qsize 0\n",
      "INFO - 18:26:06: worker thread finished; awaiting finish of 10 more threads\n",
      "INFO - 18:26:06: worker thread finished; awaiting finish of 9 more threads\n",
      "INFO - 18:26:06: worker thread finished; awaiting finish of 8 more threads\n",
      "INFO - 18:26:06: worker thread finished; awaiting finish of 7 more threads\n",
      "INFO - 18:26:06: worker thread finished; awaiting finish of 6 more threads\n",
      "INFO - 18:26:06: worker thread finished; awaiting finish of 5 more threads\n",
      "INFO - 18:26:06: worker thread finished; awaiting finish of 4 more threads\n",
      "INFO - 18:26:06: worker thread finished; awaiting finish of 3 more threads\n",
      "INFO - 18:26:06: worker thread finished; awaiting finish of 2 more threads\n",
      "INFO - 18:26:06: worker thread finished; awaiting finish of 1 more threads\n",
      "INFO - 18:26:06: worker thread finished; awaiting finish of 0 more threads\n",
      "INFO - 18:26:06: EPOCH - 23 : training on 6022014 raw words (2521188 effective words) took 8.7s, 290477 effective words/s\n",
      "INFO - 18:26:07: EPOCH 24 - PROGRESS: at 8.71% examples, 215501 words/s, in_qsize 21, out_qsize 0\n",
      "INFO - 18:26:08: EPOCH 24 - PROGRESS: at 22.44% examples, 261709 words/s, in_qsize 21, out_qsize 0\n",
      "INFO - 18:26:09: EPOCH 24 - PROGRESS: at 35.21% examples, 282132 words/s, in_qsize 21, out_qsize 0\n",
      "INFO - 18:26:10: EPOCH 24 - PROGRESS: at 47.67% examples, 289069 words/s, in_qsize 11, out_qsize 6\n",
      "INFO - 18:26:11: EPOCH 24 - PROGRESS: at 60.10% examples, 292591 words/s, in_qsize 21, out_qsize 0\n",
      "INFO - 18:26:12: EPOCH 24 - PROGRESS: at 73.51% examples, 300809 words/s, in_qsize 14, out_qsize 0\n",
      "INFO - 18:26:13: EPOCH 24 - PROGRESS: at 85.21% examples, 297789 words/s, in_qsize 21, out_qsize 1\n",
      "INFO - 18:26:14: worker thread finished; awaiting finish of 10 more threads\n",
      "INFO - 18:26:14: worker thread finished; awaiting finish of 9 more threads\n",
      "INFO - 18:26:14: worker thread finished; awaiting finish of 8 more threads\n",
      "INFO - 18:26:14: worker thread finished; awaiting finish of 7 more threads\n",
      "INFO - 18:26:14: worker thread finished; awaiting finish of 6 more threads\n",
      "INFO - 18:26:14: worker thread finished; awaiting finish of 5 more threads\n",
      "INFO - 18:26:14: worker thread finished; awaiting finish of 4 more threads\n",
      "INFO - 18:26:14: worker thread finished; awaiting finish of 3 more threads\n",
      "INFO - 18:26:14: worker thread finished; awaiting finish of 2 more threads\n",
      "INFO - 18:26:14: worker thread finished; awaiting finish of 1 more threads\n",
      "INFO - 18:26:14: worker thread finished; awaiting finish of 0 more threads\n",
      "INFO - 18:26:14: EPOCH - 24 : training on 6022014 raw words (2521059 effective words) took 8.1s, 310369 effective words/s\n",
      "INFO - 18:26:15: EPOCH 25 - PROGRESS: at 9.54% examples, 237291 words/s, in_qsize 22, out_qsize 0\n",
      "INFO - 18:26:16: EPOCH 25 - PROGRESS: at 21.58% examples, 260139 words/s, in_qsize 21, out_qsize 0\n",
      "INFO - 18:26:17: EPOCH 25 - PROGRESS: at 34.14% examples, 270353 words/s, in_qsize 21, out_qsize 0\n",
      "INFO - 18:26:18: EPOCH 25 - PROGRESS: at 46.59% examples, 275766 words/s, in_qsize 21, out_qsize 1\n",
      "INFO - 18:26:19: EPOCH 25 - PROGRESS: at 57.91% examples, 276780 words/s, in_qsize 18, out_qsize 3\n",
      "INFO - 18:26:20: EPOCH 25 - PROGRESS: at 70.49% examples, 283450 words/s, in_qsize 14, out_qsize 1\n",
      "INFO - 18:26:21: EPOCH 25 - PROGRESS: at 81.93% examples, 282363 words/s, in_qsize 22, out_qsize 0\n",
      "INFO - 18:26:22: EPOCH 25 - PROGRESS: at 92.89% examples, 281407 words/s, in_qsize 20, out_qsize 1\n",
      "INFO - 18:26:22: worker thread finished; awaiting finish of 10 more threads\n",
      "INFO - 18:26:22: worker thread finished; awaiting finish of 9 more threads\n",
      "INFO - 18:26:22: worker thread finished; awaiting finish of 8 more threads\n",
      "INFO - 18:26:22: worker thread finished; awaiting finish of 7 more threads\n",
      "INFO - 18:26:22: worker thread finished; awaiting finish of 6 more threads\n",
      "INFO - 18:26:22: worker thread finished; awaiting finish of 5 more threads\n",
      "INFO - 18:26:22: worker thread finished; awaiting finish of 4 more threads\n",
      "INFO - 18:26:22: worker thread finished; awaiting finish of 3 more threads\n"
     ]
    },
    {
     "name": "stderr",
     "output_type": "stream",
     "text": [
      "INFO - 18:26:23: worker thread finished; awaiting finish of 2 more threads\n",
      "INFO - 18:26:23: worker thread finished; awaiting finish of 1 more threads\n",
      "INFO - 18:26:23: worker thread finished; awaiting finish of 0 more threads\n",
      "INFO - 18:26:23: EPOCH - 25 : training on 6022014 raw words (2519172 effective words) took 8.6s, 291703 effective words/s\n",
      "INFO - 18:26:24: EPOCH 26 - PROGRESS: at 6.90% examples, 177992 words/s, in_qsize 19, out_qsize 2\n",
      "INFO - 18:26:25: EPOCH 26 - PROGRESS: at 18.34% examples, 228398 words/s, in_qsize 20, out_qsize 0\n",
      "INFO - 18:26:26: EPOCH 26 - PROGRESS: at 31.04% examples, 256356 words/s, in_qsize 15, out_qsize 0\n",
      "INFO - 18:26:27: EPOCH 26 - PROGRESS: at 41.74% examples, 261191 words/s, in_qsize 21, out_qsize 0\n",
      "INFO - 18:26:28: EPOCH 26 - PROGRESS: at 55.17% examples, 273536 words/s, in_qsize 21, out_qsize 0\n",
      "INFO - 18:26:29: EPOCH 26 - PROGRESS: at 67.78% examples, 282043 words/s, in_qsize 14, out_qsize 1\n",
      "INFO - 18:26:30: EPOCH 26 - PROGRESS: at 80.14% examples, 286240 words/s, in_qsize 16, out_qsize 0\n",
      "INFO - 18:26:31: EPOCH 26 - PROGRESS: at 91.91% examples, 285783 words/s, in_qsize 21, out_qsize 0\n",
      "INFO - 18:26:31: worker thread finished; awaiting finish of 10 more threads\n",
      "INFO - 18:26:31: worker thread finished; awaiting finish of 9 more threads\n",
      "INFO - 18:26:31: worker thread finished; awaiting finish of 8 more threads\n",
      "INFO - 18:26:31: worker thread finished; awaiting finish of 7 more threads\n",
      "INFO - 18:26:31: worker thread finished; awaiting finish of 6 more threads\n",
      "INFO - 18:26:31: worker thread finished; awaiting finish of 5 more threads\n",
      "INFO - 18:26:31: worker thread finished; awaiting finish of 4 more threads\n",
      "INFO - 18:26:31: worker thread finished; awaiting finish of 3 more threads\n",
      "INFO - 18:26:31: worker thread finished; awaiting finish of 2 more threads\n",
      "INFO - 18:26:31: worker thread finished; awaiting finish of 1 more threads\n",
      "INFO - 18:26:31: worker thread finished; awaiting finish of 0 more threads\n",
      "INFO - 18:26:31: EPOCH - 26 : training on 6022014 raw words (2521094 effective words) took 8.5s, 297827 effective words/s\n",
      "INFO - 18:26:32: EPOCH 27 - PROGRESS: at 7.58% examples, 184155 words/s, in_qsize 16, out_qsize 7\n",
      "INFO - 18:26:33: EPOCH 27 - PROGRESS: at 19.57% examples, 238472 words/s, in_qsize 16, out_qsize 4\n",
      "INFO - 18:26:34: EPOCH 27 - PROGRESS: at 28.98% examples, 235293 words/s, in_qsize 21, out_qsize 0\n",
      "INFO - 18:26:35: EPOCH 27 - PROGRESS: at 39.77% examples, 245585 words/s, in_qsize 21, out_qsize 0\n",
      "INFO - 18:26:36: EPOCH 27 - PROGRESS: at 51.40% examples, 250139 words/s, in_qsize 17, out_qsize 4\n",
      "INFO - 18:26:37: EPOCH 27 - PROGRESS: at 62.16% examples, 256236 words/s, in_qsize 22, out_qsize 0\n",
      "INFO - 18:26:38: EPOCH 27 - PROGRESS: at 74.62% examples, 260328 words/s, in_qsize 13, out_qsize 10\n",
      "INFO - 18:26:39: EPOCH 27 - PROGRESS: at 86.12% examples, 262037 words/s, in_qsize 20, out_qsize 1\n",
      "INFO - 18:26:40: worker thread finished; awaiting finish of 10 more threads\n",
      "INFO - 18:26:40: worker thread finished; awaiting finish of 9 more threads\n",
      "INFO - 18:26:40: worker thread finished; awaiting finish of 8 more threads\n",
      "INFO - 18:26:40: worker thread finished; awaiting finish of 7 more threads\n",
      "INFO - 18:26:40: worker thread finished; awaiting finish of 6 more threads\n",
      "INFO - 18:26:40: worker thread finished; awaiting finish of 5 more threads\n",
      "INFO - 18:26:40: worker thread finished; awaiting finish of 4 more threads\n",
      "INFO - 18:26:40: worker thread finished; awaiting finish of 3 more threads\n",
      "INFO - 18:26:40: worker thread finished; awaiting finish of 2 more threads\n",
      "INFO - 18:26:40: worker thread finished; awaiting finish of 1 more threads\n",
      "INFO - 18:26:40: worker thread finished; awaiting finish of 0 more threads\n",
      "INFO - 18:26:40: EPOCH - 27 : training on 6022014 raw words (2521063 effective words) took 9.2s, 272939 effective words/s\n",
      "INFO - 18:26:41: EPOCH 28 - PROGRESS: at 7.28% examples, 184911 words/s, in_qsize 22, out_qsize 0\n",
      "INFO - 18:26:42: EPOCH 28 - PROGRESS: at 19.06% examples, 235316 words/s, in_qsize 20, out_qsize 2\n",
      "INFO - 18:26:43: EPOCH 28 - PROGRESS: at 30.56% examples, 251586 words/s, in_qsize 21, out_qsize 0\n",
      "INFO - 18:26:44: EPOCH 28 - PROGRESS: at 43.66% examples, 266268 words/s, in_qsize 21, out_qsize 0\n",
      "INFO - 18:26:45: EPOCH 28 - PROGRESS: at 55.00% examples, 270914 words/s, in_qsize 21, out_qsize 2\n",
      "INFO - 18:26:46: EPOCH 28 - PROGRESS: at 67.40% examples, 277238 words/s, in_qsize 20, out_qsize 0\n",
      "INFO - 18:26:47: EPOCH 28 - PROGRESS: at 78.53% examples, 277695 words/s, in_qsize 21, out_qsize 0\n",
      "INFO - 18:26:48: EPOCH 28 - PROGRESS: at 91.40% examples, 281785 words/s, in_qsize 13, out_qsize 3\n",
      "INFO - 18:26:49: worker thread finished; awaiting finish of 10 more threads\n",
      "INFO - 18:26:49: worker thread finished; awaiting finish of 9 more threads\n",
      "INFO - 18:26:49: worker thread finished; awaiting finish of 8 more threads\n",
      "INFO - 18:26:49: worker thread finished; awaiting finish of 7 more threads\n",
      "INFO - 18:26:49: worker thread finished; awaiting finish of 6 more threads\n",
      "INFO - 18:26:49: worker thread finished; awaiting finish of 5 more threads\n",
      "INFO - 18:26:49: worker thread finished; awaiting finish of 4 more threads\n",
      "INFO - 18:26:49: worker thread finished; awaiting finish of 3 more threads\n",
      "INFO - 18:26:49: worker thread finished; awaiting finish of 2 more threads\n",
      "INFO - 18:26:49: worker thread finished; awaiting finish of 1 more threads\n",
      "INFO - 18:26:49: worker thread finished; awaiting finish of 0 more threads\n",
      "INFO - 18:26:49: EPOCH - 28 : training on 6022014 raw words (2520025 effective words) took 8.7s, 291279 effective words/s\n",
      "INFO - 18:26:50: EPOCH 29 - PROGRESS: at 8.23% examples, 202755 words/s, in_qsize 21, out_qsize 0\n",
      "INFO - 18:26:51: EPOCH 29 - PROGRESS: at 20.21% examples, 247888 words/s, in_qsize 22, out_qsize 0\n",
      "INFO - 18:26:52: EPOCH 29 - PROGRESS: at 32.90% examples, 267726 words/s, in_qsize 21, out_qsize 0\n",
      "INFO - 18:26:53: EPOCH 29 - PROGRESS: at 44.94% examples, 277422 words/s, in_qsize 19, out_qsize 0\n",
      "INFO - 18:26:54: EPOCH 29 - PROGRESS: at 55.94% examples, 278369 words/s, in_qsize 21, out_qsize 1\n",
      "INFO - 18:26:55: EPOCH 29 - PROGRESS: at 68.73% examples, 287083 words/s, in_qsize 15, out_qsize 0\n",
      "INFO - 18:26:56: EPOCH 29 - PROGRESS: at 80.84% examples, 289106 words/s, in_qsize 14, out_qsize 0\n",
      "INFO - 18:26:57: EPOCH 29 - PROGRESS: at 93.21% examples, 288684 words/s, in_qsize 21, out_qsize 0\n",
      "INFO - 18:26:57: worker thread finished; awaiting finish of 10 more threads\n",
      "INFO - 18:26:57: worker thread finished; awaiting finish of 9 more threads\n",
      "INFO - 18:26:57: worker thread finished; awaiting finish of 8 more threads\n",
      "INFO - 18:26:57: worker thread finished; awaiting finish of 7 more threads\n",
      "INFO - 18:26:57: worker thread finished; awaiting finish of 6 more threads\n",
      "INFO - 18:26:57: worker thread finished; awaiting finish of 5 more threads\n",
      "INFO - 18:26:57: worker thread finished; awaiting finish of 4 more threads\n",
      "INFO - 18:26:57: worker thread finished; awaiting finish of 3 more threads\n",
      "INFO - 18:26:57: worker thread finished; awaiting finish of 2 more threads\n",
      "INFO - 18:26:57: worker thread finished; awaiting finish of 1 more threads\n",
      "INFO - 18:26:57: worker thread finished; awaiting finish of 0 more threads\n",
      "INFO - 18:26:57: EPOCH - 29 : training on 6022014 raw words (2520581 effective words) took 8.4s, 298592 effective words/s\n",
      "INFO - 18:26:58: EPOCH 30 - PROGRESS: at 9.03% examples, 215926 words/s, in_qsize 21, out_qsize 0\n",
      "INFO - 18:27:00: EPOCH 30 - PROGRESS: at 22.09% examples, 258957 words/s, in_qsize 21, out_qsize 0\n",
      "INFO - 18:27:01: EPOCH 30 - PROGRESS: at 35.04% examples, 276486 words/s, in_qsize 22, out_qsize 0\n",
      "INFO - 18:27:02: EPOCH 30 - PROGRESS: at 46.45% examples, 279315 words/s, in_qsize 13, out_qsize 9\n",
      "INFO - 18:27:03: EPOCH 30 - PROGRESS: at 59.07% examples, 288492 words/s, in_qsize 15, out_qsize 3\n",
      "INFO - 18:27:04: EPOCH 30 - PROGRESS: at 71.14% examples, 288561 words/s, in_qsize 21, out_qsize 0\n",
      "INFO - 18:27:05: EPOCH 30 - PROGRESS: at 84.72% examples, 294264 words/s, in_qsize 21, out_qsize 0\n",
      "INFO - 18:27:06: worker thread finished; awaiting finish of 10 more threads\n",
      "INFO - 18:27:06: worker thread finished; awaiting finish of 9 more threads\n",
      "INFO - 18:27:06: worker thread finished; awaiting finish of 8 more threads\n"
     ]
    },
    {
     "name": "stderr",
     "output_type": "stream",
     "text": [
      "INFO - 18:27:06: worker thread finished; awaiting finish of 7 more threads\n",
      "INFO - 18:27:06: worker thread finished; awaiting finish of 6 more threads\n",
      "INFO - 18:27:06: worker thread finished; awaiting finish of 5 more threads\n",
      "INFO - 18:27:06: worker thread finished; awaiting finish of 4 more threads\n",
      "INFO - 18:27:06: worker thread finished; awaiting finish of 3 more threads\n",
      "INFO - 18:27:06: worker thread finished; awaiting finish of 2 more threads\n",
      "INFO - 18:27:06: worker thread finished; awaiting finish of 1 more threads\n",
      "INFO - 18:27:06: worker thread finished; awaiting finish of 0 more threads\n",
      "INFO - 18:27:06: EPOCH - 30 : training on 6022014 raw words (2520483 effective words) took 8.2s, 308339 effective words/s\n",
      "INFO - 18:27:06: Word2Vec lifecycle event {'msg': 'training on 180660420 raw words (75611216 effective words) took 239.1s, 316234 effective words/s', 'datetime': '2022-10-04T18:27:06.043054', 'gensim': '4.1.2', 'python': '3.9.12 (main, Apr  5 2022, 01:53:17) \\n[Clang 12.0.0 ]', 'platform': 'macOS-10.16-x86_64-i386-64bit', 'event': 'train'}\n"
     ]
    },
    {
     "name": "stdout",
     "output_type": "stream",
     "text": [
      "Time to train the model: 4.13 mins\n"
     ]
    }
   ],
   "source": [
    "w2v_model.train(sentences, total_examples=w2v_model.corpus_count, epochs=30, report_delay=1)\n",
    "\n",
    "print('Time to train the model: {} mins'.format(round((time() - t) / 60, 2)))"
   ]
  },
  {
   "cell_type": "markdown",
   "metadata": {},
   "source": [
    "# <a id='Exploring'>Exploring the model</a>\n",
    "## <a id='similar'>Most similar to:</a>\n",
    "\n",
    "Here, we will ask our model to find the word most similar to some of the words in the corpus"
   ]
  },
  {
   "cell_type": "code",
   "execution_count": 25,
   "metadata": {},
   "outputs": [
    {
     "data": {
      "text/plain": [
       "[('kotlin', 0.4408639371395111),\n",
       " ('scala', 0.393154114484787),\n",
       " ('jdk', 0.37687715888023376),\n",
       " ('python', 0.37434151768684387),\n",
       " ('java_util', 0.3635866641998291),\n",
       " ('stdlib', 0.3618549704551697),\n",
       " ('core_jar', 0.35858240723609924),\n",
       " ('jaxb', 0.35346150398254395),\n",
       " ('tomcat_embed', 0.35154345631599426),\n",
       " ('eclipse', 0.35048243403434753)]"
      ]
     },
     "execution_count": 25,
     "metadata": {},
     "output_type": "execute_result"
    }
   ],
   "source": [
    "w2v_model.wv.most_similar(positive=[\"java\"])"
   ]
  },
  {
   "cell_type": "markdown",
   "metadata": {},
   "source": [
    "### <a id='t-SNE'>t-SNE visualizations:</a>\n",
    "t-SNE is a non-linear dimensionality reduction algorithm that attempts to represent high-dimensional data and the underlying relationships between vectors in a lower-dimensional space.<br>"
   ]
  },
  {
   "cell_type": "markdown",
   "metadata": {},
   "source": [
    "To make the visualizations more relevant, we will look at the relationships between a query word (in <font color='red'>**red**</font>), its most similar words in the model (in <font color=\"blue\">**blue**</font>), and other words from the vocabulary (in <font color='green'>**green**</font>)."
   ]
  },
  {
   "cell_type": "code",
   "execution_count": 26,
   "metadata": {},
   "outputs": [],
   "source": [
    "def tsnescatterplot(model, word, list_names):\n",
    "    \"\"\" Plot in seaborn the results from the t-SNE dimensionality reduction algorithm of the vectors of a query word,\n",
    "    its list of most similar words, and a list of words.\n",
    "    \"\"\"\n",
    "    arrays = np.empty((0, 300), dtype='f')\n",
    "    word_labels = [word]\n",
    "    color_list  = ['red']\n",
    "\n",
    "    # adds the vector of the query word\n",
    "    arrays = np.append(arrays, model.wv.__getitem__([word]), axis=0)\n",
    "    \n",
    "    # gets list of most similar words\n",
    "    close_words = model.wv.most_similar([word])\n",
    "    \n",
    "    # adds the vector for each of the closest words to the array\n",
    "    for wrd_score in close_words:\n",
    "        wrd_vector = model.wv.__getitem__([wrd_score[0]])\n",
    "        word_labels.append(wrd_score[0])\n",
    "        color_list.append('blue')\n",
    "        arrays = np.append(arrays, wrd_vector, axis=0)\n",
    "    \n",
    "    # adds the vector for each of the words from list_names to the array\n",
    "    for wrd in list_names:\n",
    "        wrd_vector = model.wv.__getitem__([wrd])\n",
    "        word_labels.append(wrd)\n",
    "        color_list.append('green')\n",
    "        arrays = np.append(arrays, wrd_vector, axis=0)\n",
    "        \n",
    "    # Reduces the dimensionality  with PCA\n",
    "    reduc = PCA(n_components=20).fit_transform(arrays)\n",
    "    \n",
    "    # Finds t-SNE coordinates for 2 dimensions\n",
    "    np.set_printoptions(suppress=True)\n",
    "    \n",
    "    Y = TSNE(n_components=2, random_state=0, perplexity=15).fit_transform(reduc)\n",
    "    \n",
    "    # Sets everything up to plot\n",
    "    df = pd.DataFrame({'x': [x for x in Y[:, 0]],\n",
    "                       'y': [y for y in Y[:, 1]],\n",
    "                       'words': word_labels,\n",
    "                       'color': color_list})\n",
    "    \n",
    "    fig, _ = plt.subplots()\n",
    "    fig.set_size_inches(9, 9)\n",
    "    \n",
    "    # Basic plot\n",
    "    p1 = sns.regplot(data=df,\n",
    "                     x=\"x\",\n",
    "                     y=\"y\",\n",
    "                     fit_reg=False,\n",
    "                     marker=\"o\",\n",
    "                     scatter_kws={'s': 40,\n",
    "                                  'facecolors': df['color']\n",
    "                                 }\n",
    "                    )\n",
    "    \n",
    "    # Adds annotations one by one with a loop\n",
    "    for line in range(0, df.shape[0]):\n",
    "         p1.text(df[\"x\"][line],\n",
    "                 df['y'][line],\n",
    "                 '  ' + df[\"words\"][line].title(),\n",
    "                 horizontalalignment='left',\n",
    "                 verticalalignment='bottom', size='medium',\n",
    "                 color=df['color'][line],\n",
    "                 weight='normal'\n",
    "                ).set_size(15)\n",
    "\n",
    "    \n",
    "    plt.xlim(Y[:, 0].min()-50, Y[:, 0].max()+50)\n",
    "    plt.ylim(Y[:, 1].min()-50, Y[:, 1].max()+50)\n",
    "            \n",
    "    plt.title('t-SNE visualization for {}'.format(word.title()))\n",
    "    "
   ]
  },
  {
   "cell_type": "markdown",
   "metadata": {},
   "source": [
    "## <a id='PLOTS'>Let's check the 20 similar words to Java and plot it. </a>"
   ]
  },
  {
   "cell_type": "code",
   "execution_count": 31,
   "metadata": {},
   "outputs": [
    {
     "name": "stderr",
     "output_type": "stream",
     "text": [
      "/Users/usman/opt/anaconda3/lib/python3.9/site-packages/sklearn/manifold/_t_sne.py:780: FutureWarning: The default initialization in TSNE will change from 'random' to 'pca' in 1.2.\n",
      "  warnings.warn(\n",
      "/Users/usman/opt/anaconda3/lib/python3.9/site-packages/sklearn/manifold/_t_sne.py:790: FutureWarning: The default learning rate in TSNE will change from 200.0 to 'auto' in 1.2.\n",
      "  warnings.warn(\n"
     ]
    },
    {
     "data": {
      "image/png": "[encoded data removed]",
      "text/plain": [
       "<Figure size 648x648 with 1 Axes>"
      ]
     },
     "metadata": {},
     "output_type": "display_data"
    }
   ],
   "source": [
    "tsnescatterplot(w2v_model, 'java',[t[0] for t in w2v_model.wv.most_similar(positive=[\"java\"], topn=20)][10:])"
   ]
  },
  {
   "cell_type": "markdown",
   "metadata": {},
   "source": [
    "## Let's see the difference as to how top 30 similar words make a difference"
   ]
  },
  {
   "cell_type": "code",
   "execution_count": 32,
   "metadata": {},
   "outputs": [
    {
     "name": "stderr",
     "output_type": "stream",
     "text": [
      "/Users/usman/opt/anaconda3/lib/python3.9/site-packages/sklearn/manifold/_t_sne.py:780: FutureWarning: The default initialization in TSNE will change from 'random' to 'pca' in 1.2.\n",
      "  warnings.warn(\n",
      "/Users/usman/opt/anaconda3/lib/python3.9/site-packages/sklearn/manifold/_t_sne.py:790: FutureWarning: The default learning rate in TSNE will change from 200.0 to 'auto' in 1.2.\n",
      "  warnings.warn(\n"
     ]
    },
    {
     "data": {
      "image/png": "[encoded data removed]",
      "text/plain": [
       "<Figure size 648x648 with 1 Axes>"
      ]
     },
     "metadata": {},
     "output_type": "display_data"
    }
   ],
   "source": [
    "tsnescatterplot(w2v_model, 'java',[t[0] for t in w2v_model.wv.most_similar(positive=[\"java\"], topn=30)][10:])"
   ]
  },
  {
   "cell_type": "markdown",
   "metadata": {},
   "source": [
    "Again I can find words that are related to Java Which is pretty good.  "
   ]
  },
  {
   "cell_type": "markdown",
   "metadata": {},
   "source": [
    "## Let's see if it works for other words"
   ]
  },
  {
   "cell_type": "code",
   "execution_count": 33,
   "metadata": {},
   "outputs": [
    {
     "name": "stderr",
     "output_type": "stream",
     "text": [
      "/Users/usman/opt/anaconda3/lib/python3.9/site-packages/sklearn/manifold/_t_sne.py:780: FutureWarning: The default initialization in TSNE will change from 'random' to 'pca' in 1.2.\n",
      "  warnings.warn(\n",
      "/Users/usman/opt/anaconda3/lib/python3.9/site-packages/sklearn/manifold/_t_sne.py:790: FutureWarning: The default learning rate in TSNE will change from 200.0 to 'auto' in 1.2.\n",
      "  warnings.warn(\n"
     ]
    },
    {
     "data": {
      "image/png": "[encoded data removed]",
      "text/plain": [
       "<Figure size 648x648 with 1 Axes>"
      ]
     },
     "metadata": {},
     "output_type": "display_data"
    }
   ],
   "source": [
    "tsnescatterplot(w2v_model, 'swift',[t[0] for t in w2v_model.wv.most_similar(positive=[\"swift\"], topn=20)][10:])"
   ]
  },
  {
   "cell_type": "markdown",
   "metadata": {},
   "source": [
    "It is again giving great results."
   ]
  },
  {
   "cell_type": "markdown",
   "metadata": {},
   "source": [
    "## Let's see if it works for something random"
   ]
  },
  {
   "cell_type": "code",
   "execution_count": 34,
   "metadata": {},
   "outputs": [
    {
     "name": "stderr",
     "output_type": "stream",
     "text": [
      "/Users/usman/opt/anaconda3/lib/python3.9/site-packages/sklearn/manifold/_t_sne.py:780: FutureWarning: The default initialization in TSNE will change from 'random' to 'pca' in 1.2.\n",
      "  warnings.warn(\n",
      "/Users/usman/opt/anaconda3/lib/python3.9/site-packages/sklearn/manifold/_t_sne.py:790: FutureWarning: The default learning rate in TSNE will change from 200.0 to 'auto' in 1.2.\n",
      "  warnings.warn(\n"
     ]
    },
    {
     "data": {
      "image/png": "[encoded data removed]",
      "text/plain": [
       "<Figure size 648x648 with 1 Axes>"
      ]
     },
     "metadata": {},
     "output_type": "display_data"
    }
   ],
   "source": [
    "tsnescatterplot(w2v_model, 'child',[t[0] for t in w2v_model.wv.most_similar(positive=[\"child\"], topn=20)][10:])"
   ]
  },
  {
   "cell_type": "markdown",
   "metadata": {},
   "source": [
    "The results are great it actually found similar words to Child and it was able to comprehend it with  \"Classes and Child\" which is great. "
   ]
  }
 ],
 "metadata": {
  "kernelspec": {
   "display_name": "Python 3 (ipykernel)",
   "language": "python",
   "name": "python3"
  },
  "language_info": {
   "codemirror_mode": {
    "name": "ipython",
    "version": 3
   },
   "file_extension": ".py",
   "mimetype": "text/x-python",
   "name": "python",
   "nbconvert_exporter": "python",
   "pygments_lexer": "ipython3",
   "version": "3.9.12"
  }
 },
 "nbformat": 4,
 "nbformat_minor": 4
}
